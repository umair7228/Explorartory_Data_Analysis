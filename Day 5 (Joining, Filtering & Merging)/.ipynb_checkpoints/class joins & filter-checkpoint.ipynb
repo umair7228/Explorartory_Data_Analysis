{
 "cells": [
  {
   "cell_type": "code",
   "execution_count": 2,
   "id": "68899bc2",
   "metadata": {},
   "outputs": [],
   "source": [
    "import numpy as np\n",
    "import pandas as pd"
   ]
  },
  {
   "cell_type": "markdown",
   "id": "a4fff061",
   "metadata": {},
   "source": [
    "- merging two table is called joining.\n",
    "\n",
    "## TYPES OF JOINS\n",
    "\n",
    "![joins](./img/joins.png)"
   ]
  },
  {
   "cell_type": "markdown",
   "id": "4aa80665",
   "metadata": {},
   "source": [
    "### INNER JOIN\n",
    "\n",
    "will bring the same rows based on paricular column\n",
    "\n",
    "![inner join](./img/inner_join.png)"
   ]
  },
  {
   "cell_type": "code",
   "execution_count": null,
   "id": "455e6ec7",
   "metadata": {},
   "outputs": [],
   "source": [
    "left_table = {'Date': ['1/1/2020', '1/2/2020', '1/3/2020', '1/4/2020'] ,\n",
    "             'CountryID': [1,1,3,2],\n",
    "             'Units': [40, 25, 30, 35]}"
   ]
  },
  {
   "cell_type": "code",
   "execution_count": null,
   "id": "d1f68703",
   "metadata": {},
   "outputs": [],
   "source": [
    "left_table_df = pd.DataFrame(left_table)\n",
    "left_table_df"
   ]
  },
  {
   "cell_type": "code",
   "execution_count": null,
   "id": "50dc52be",
   "metadata": {},
   "outputs": [],
   "source": [
    "right_table =  {'ID': [3,4],\n",
    "               'Country': ['Panama', 'Spain']}"
   ]
  },
  {
   "cell_type": "code",
   "execution_count": null,
   "id": "02f73d7a",
   "metadata": {},
   "outputs": [],
   "source": [
    "right_table_df = pd.DataFrame(right_table)\n",
    "right_table_df"
   ]
  },
  {
   "cell_type": "code",
   "execution_count": null,
   "id": "65d43c86",
   "metadata": {},
   "outputs": [],
   "source": [
    "#by defualt inner join\n",
    "left_table_df.merge(right_table_df,\n",
    "                    how='inner',\n",
    "                    left_on='CountryID',\n",
    "                    right_on='ID').drop('ID', axis=1)"
   ]
  },
  {
   "cell_type": "markdown",
   "id": "baf82452",
   "metadata": {},
   "source": [
    "### `LEFT` / `LEFT OUTER` JOIN\n",
    "\n",
    "- All rows from left table but matching rows from right table\n",
    "\n",
    "![left join](./img/left_join.png)"
   ]
  },
  {
   "cell_type": "code",
   "execution_count": null,
   "id": "ecf36323",
   "metadata": {},
   "outputs": [],
   "source": [
    "left_table = {'Date': ['1/1/2020', '1/2/2020', '1/3/2020', '1/4/2020'] ,\n",
    "             'CountryID': [1,1,3,4],\n",
    "             'Units': [40, 25, 30, 35]}\n",
    "\n",
    "left_table_df = pd.DataFrame(left_table)\n",
    "left_table_df"
   ]
  },
  {
   "cell_type": "code",
   "execution_count": null,
   "id": "ab40bfa9",
   "metadata": {},
   "outputs": [],
   "source": [
    "right_table =  {'ID': [1, 2, 3],\n",
    "               'Country': ['USA', 'Canada', 'Panama']}\n",
    "\n",
    "right_table_df = pd.DataFrame(right_table)\n",
    "right_table_df"
   ]
  },
  {
   "cell_type": "code",
   "execution_count": null,
   "id": "1186d46d",
   "metadata": {},
   "outputs": [],
   "source": [
    "left_table_df.merge(right_table_df,\n",
    "                    how='left',\n",
    "                    left_on='CountryID',\n",
    "                    right_on='ID').drop('ID', axis=1)"
   ]
  },
  {
   "cell_type": "markdown",
   "id": "b7d267b3",
   "metadata": {},
   "source": [
    "### `RIGHT` / `RIGHT OUTER` JOIN\n",
    "\n",
    "- All rows from right tble but matching ros from left table\n",
    "\n",
    "![right table](./img/right_join.png)"
   ]
  },
  {
   "cell_type": "code",
   "execution_count": null,
   "id": "63b9d8a4",
   "metadata": {},
   "outputs": [],
   "source": [
    "left_table = {'Date': ['1/1/2020', '1/2/2020', '1/3/2020', '1/4/2020'] ,\n",
    "             'CountryID': [1,1,3,4],\n",
    "             'Units': [40, 25, 30, 35]}\n",
    "\n",
    "left_table_df = pd.DataFrame(left_table)\n",
    "left_table_df"
   ]
  },
  {
   "cell_type": "code",
   "execution_count": null,
   "id": "0ad9903b",
   "metadata": {},
   "outputs": [],
   "source": [
    "right_table =  {'ID': [3],\n",
    "               'Country': ['Panama']}\n",
    "\n",
    "right_table_df = pd.DataFrame(right_table)\n",
    "right_table_df"
   ]
  },
  {
   "cell_type": "code",
   "execution_count": null,
   "id": "4bbf79dc",
   "metadata": {},
   "outputs": [],
   "source": [
    "left_table_df.merge(right_table_df,\n",
    "                    how='right',\n",
    "                    left_on='CountryID',\n",
    "                    right_on='ID').drop('ID', axis=1)"
   ]
  },
  {
   "cell_type": "markdown",
   "id": "8b278e26",
   "metadata": {},
   "source": [
    "### `FULL`/ `OUTER` JOIN\n",
    "\n",
    "- All rows from both tables\n",
    "\n",
    "![full](./img/full_outer_join.png)"
   ]
  },
  {
   "cell_type": "code",
   "execution_count": null,
   "id": "f731aa50",
   "metadata": {},
   "outputs": [],
   "source": [
    "left_table = {'Date': ['1/1/2020', '1/2/2020', '1/3/2020', '1/4/2020'] ,\n",
    "             'CountryID': [1,1,3,2],\n",
    "             'Units': [40, 25, 30, 35]}\n",
    "\n",
    "left_table_df = pd.DataFrame(left_table)\n",
    "left_table_df"
   ]
  },
  {
   "cell_type": "code",
   "execution_count": null,
   "id": "1c87bfb4",
   "metadata": {},
   "outputs": [],
   "source": [
    "right_table =  {'ID': [1,2,3, 4],\n",
    "               'Country': ['USA', 'Canada', 'Panama', 'Spain']}\n",
    "\n",
    "right_table_df = pd.DataFrame(right_table)\n",
    "right_table_df"
   ]
  },
  {
   "cell_type": "code",
   "execution_count": null,
   "id": "54682728",
   "metadata": {},
   "outputs": [],
   "source": [
    "left_table_df.merge(right_table_df,\n",
    "                    how='outer',\n",
    "                    left_on='CountryID',\n",
    "                    right_on='ID').drop('ID', axis=1)"
   ]
  },
  {
   "cell_type": "markdown",
   "id": "e3388687",
   "metadata": {},
   "source": [
    "### LEFT ANTI JOIN\n",
    "\n",
    "- Only Rows from left table that are not matching.\n",
    "\n",
    "![](./img/left_anti_join.png)"
   ]
  },
  {
   "cell_type": "code",
   "execution_count": 7,
   "id": "980bce42",
   "metadata": {},
   "outputs": [
    {
     "data": {
      "text/html": [
       "<div>\n",
       "<style scoped>\n",
       "    .dataframe tbody tr th:only-of-type {\n",
       "        vertical-align: middle;\n",
       "    }\n",
       "\n",
       "    .dataframe tbody tr th {\n",
       "        vertical-align: top;\n",
       "    }\n",
       "\n",
       "    .dataframe thead th {\n",
       "        text-align: right;\n",
       "    }\n",
       "</style>\n",
       "<table border=\"1\" class=\"dataframe\">\n",
       "  <thead>\n",
       "    <tr style=\"text-align: right;\">\n",
       "      <th></th>\n",
       "      <th>Date</th>\n",
       "      <th>CountryID</th>\n",
       "      <th>Units</th>\n",
       "    </tr>\n",
       "  </thead>\n",
       "  <tbody>\n",
       "    <tr>\n",
       "      <th>0</th>\n",
       "      <td>1/1/2020</td>\n",
       "      <td>1</td>\n",
       "      <td>40</td>\n",
       "    </tr>\n",
       "    <tr>\n",
       "      <th>1</th>\n",
       "      <td>1/2/2020</td>\n",
       "      <td>1</td>\n",
       "      <td>25</td>\n",
       "    </tr>\n",
       "    <tr>\n",
       "      <th>2</th>\n",
       "      <td>1/3/2020</td>\n",
       "      <td>3</td>\n",
       "      <td>30</td>\n",
       "    </tr>\n",
       "    <tr>\n",
       "      <th>3</th>\n",
       "      <td>1/4/2020</td>\n",
       "      <td>2</td>\n",
       "      <td>35</td>\n",
       "    </tr>\n",
       "  </tbody>\n",
       "</table>\n",
       "</div>"
      ],
      "text/plain": [
       "       Date  CountryID  Units\n",
       "0  1/1/2020          1     40\n",
       "1  1/2/2020          1     25\n",
       "2  1/3/2020          3     30\n",
       "3  1/4/2020          2     35"
      ]
     },
     "execution_count": 7,
     "metadata": {},
     "output_type": "execute_result"
    }
   ],
   "source": [
    "left_table = {'Date': ['1/1/2020', '1/2/2020', '1/3/2020', '1/4/2020'] ,\n",
    "             'CountryID': [1,1,3,2],\n",
    "             'Units': [40, 25, 30, 35]}\n",
    "\n",
    "left_table_df = pd.DataFrame(left_table)\n",
    "left_table_df"
   ]
  },
  {
   "cell_type": "code",
   "execution_count": 8,
   "id": "875faf14",
   "metadata": {},
   "outputs": [
    {
     "data": {
      "text/html": [
       "<div>\n",
       "<style scoped>\n",
       "    .dataframe tbody tr th:only-of-type {\n",
       "        vertical-align: middle;\n",
       "    }\n",
       "\n",
       "    .dataframe tbody tr th {\n",
       "        vertical-align: top;\n",
       "    }\n",
       "\n",
       "    .dataframe thead th {\n",
       "        text-align: right;\n",
       "    }\n",
       "</style>\n",
       "<table border=\"1\" class=\"dataframe\">\n",
       "  <thead>\n",
       "    <tr style=\"text-align: right;\">\n",
       "      <th></th>\n",
       "      <th>ID</th>\n",
       "      <th>Country</th>\n",
       "    </tr>\n",
       "  </thead>\n",
       "  <tbody>\n",
       "    <tr>\n",
       "      <th>0</th>\n",
       "      <td>3</td>\n",
       "      <td>Panama</td>\n",
       "    </tr>\n",
       "    <tr>\n",
       "      <th>1</th>\n",
       "      <td>4</td>\n",
       "      <td>Spain</td>\n",
       "    </tr>\n",
       "  </tbody>\n",
       "</table>\n",
       "</div>"
      ],
      "text/plain": [
       "   ID Country\n",
       "0   3  Panama\n",
       "1   4   Spain"
      ]
     },
     "execution_count": 8,
     "metadata": {},
     "output_type": "execute_result"
    }
   ],
   "source": [
    "right_table =  {'ID': [3,4],\n",
    "               'Country': ['Panama','Spain']}\n",
    "\n",
    "right_table_df = pd.DataFrame(right_table)\n",
    "right_table_df"
   ]
  },
  {
   "cell_type": "markdown",
   "id": "3c1a2d79",
   "metadata": {},
   "source": [
    "- STEP:1 For left anti simply merge yhe table with left join with params `indicator=True`\n",
    "- STEP:2 Create a filter for left_ony rows\n",
    "- STEP:3 Apply that filter on whole dataset"
   ]
  },
  {
   "cell_type": "code",
   "execution_count": 9,
   "id": "3c9829f5",
   "metadata": {},
   "outputs": [],
   "source": [
    "left_anti_df = left_table_df.merge(right_table_df,\n",
    "                                    how='left',\n",
    "                                    left_on='CountryID',\n",
    "                                    right_on='ID',\n",
    "                                    indicator=True).drop('ID', axis=1)"
   ]
  },
  {
   "cell_type": "code",
   "execution_count": 10,
   "id": "739218b7",
   "metadata": {},
   "outputs": [
    {
     "data": {
      "text/html": [
       "<div>\n",
       "<style scoped>\n",
       "    .dataframe tbody tr th:only-of-type {\n",
       "        vertical-align: middle;\n",
       "    }\n",
       "\n",
       "    .dataframe tbody tr th {\n",
       "        vertical-align: top;\n",
       "    }\n",
       "\n",
       "    .dataframe thead th {\n",
       "        text-align: right;\n",
       "    }\n",
       "</style>\n",
       "<table border=\"1\" class=\"dataframe\">\n",
       "  <thead>\n",
       "    <tr style=\"text-align: right;\">\n",
       "      <th></th>\n",
       "      <th>Date</th>\n",
       "      <th>CountryID</th>\n",
       "      <th>Units</th>\n",
       "      <th>Country</th>\n",
       "    </tr>\n",
       "  </thead>\n",
       "  <tbody>\n",
       "    <tr>\n",
       "      <th>0</th>\n",
       "      <td>1/1/2020</td>\n",
       "      <td>1</td>\n",
       "      <td>40</td>\n",
       "      <td>NaN</td>\n",
       "    </tr>\n",
       "    <tr>\n",
       "      <th>1</th>\n",
       "      <td>1/2/2020</td>\n",
       "      <td>1</td>\n",
       "      <td>25</td>\n",
       "      <td>NaN</td>\n",
       "    </tr>\n",
       "    <tr>\n",
       "      <th>3</th>\n",
       "      <td>1/4/2020</td>\n",
       "      <td>2</td>\n",
       "      <td>35</td>\n",
       "      <td>NaN</td>\n",
       "    </tr>\n",
       "  </tbody>\n",
       "</table>\n",
       "</div>"
      ],
      "text/plain": [
       "       Date  CountryID  Units Country\n",
       "0  1/1/2020          1     40     NaN\n",
       "1  1/2/2020          1     25     NaN\n",
       "3  1/4/2020          2     35     NaN"
      ]
     },
     "execution_count": 10,
     "metadata": {},
     "output_type": "execute_result"
    }
   ],
   "source": [
    "left_anti_df[left_anti_df['_merge'] == 'left_only'].drop('_merge', axis=1)"
   ]
  },
  {
   "cell_type": "markdown",
   "id": "f3ac7916",
   "metadata": {},
   "source": [
    "### RIGHT ANTI JOIN\n",
    "\n",
    "- All rows from RIGHT table that are not macthing with left table.\n",
    "\n",
    "![right anti join](./img/right_anti_join.png)"
   ]
  },
  {
   "cell_type": "code",
   "execution_count": 11,
   "id": "f71c8d48",
   "metadata": {},
   "outputs": [
    {
     "data": {
      "text/html": [
       "<div>\n",
       "<style scoped>\n",
       "    .dataframe tbody tr th:only-of-type {\n",
       "        vertical-align: middle;\n",
       "    }\n",
       "\n",
       "    .dataframe tbody tr th {\n",
       "        vertical-align: top;\n",
       "    }\n",
       "\n",
       "    .dataframe thead th {\n",
       "        text-align: right;\n",
       "    }\n",
       "</style>\n",
       "<table border=\"1\" class=\"dataframe\">\n",
       "  <thead>\n",
       "    <tr style=\"text-align: right;\">\n",
       "      <th></th>\n",
       "      <th>Date</th>\n",
       "      <th>CountryID</th>\n",
       "      <th>Units</th>\n",
       "    </tr>\n",
       "  </thead>\n",
       "  <tbody>\n",
       "    <tr>\n",
       "      <th>0</th>\n",
       "      <td>1/1/2020</td>\n",
       "      <td>1</td>\n",
       "      <td>40</td>\n",
       "    </tr>\n",
       "    <tr>\n",
       "      <th>1</th>\n",
       "      <td>1/2/2020</td>\n",
       "      <td>1</td>\n",
       "      <td>25</td>\n",
       "    </tr>\n",
       "    <tr>\n",
       "      <th>2</th>\n",
       "      <td>1/3/2020</td>\n",
       "      <td>3</td>\n",
       "      <td>30</td>\n",
       "    </tr>\n",
       "    <tr>\n",
       "      <th>3</th>\n",
       "      <td>1/4/2020</td>\n",
       "      <td>2</td>\n",
       "      <td>35</td>\n",
       "    </tr>\n",
       "  </tbody>\n",
       "</table>\n",
       "</div>"
      ],
      "text/plain": [
       "       Date  CountryID  Units\n",
       "0  1/1/2020          1     40\n",
       "1  1/2/2020          1     25\n",
       "2  1/3/2020          3     30\n",
       "3  1/4/2020          2     35"
      ]
     },
     "execution_count": 11,
     "metadata": {},
     "output_type": "execute_result"
    }
   ],
   "source": [
    "left_table = {'Date': ['1/1/2020', '1/2/2020', '1/3/2020', '1/4/2020'] ,\n",
    "             'CountryID': [1,1,3,2],\n",
    "             'Units': [40, 25, 30, 35]}\n",
    "\n",
    "left_table_df = pd.DataFrame(left_table)\n",
    "left_table_df"
   ]
  },
  {
   "cell_type": "code",
   "execution_count": 12,
   "id": "6070d6cb",
   "metadata": {},
   "outputs": [
    {
     "data": {
      "text/html": [
       "<div>\n",
       "<style scoped>\n",
       "    .dataframe tbody tr th:only-of-type {\n",
       "        vertical-align: middle;\n",
       "    }\n",
       "\n",
       "    .dataframe tbody tr th {\n",
       "        vertical-align: top;\n",
       "    }\n",
       "\n",
       "    .dataframe thead th {\n",
       "        text-align: right;\n",
       "    }\n",
       "</style>\n",
       "<table border=\"1\" class=\"dataframe\">\n",
       "  <thead>\n",
       "    <tr style=\"text-align: right;\">\n",
       "      <th></th>\n",
       "      <th>ID</th>\n",
       "      <th>Country</th>\n",
       "    </tr>\n",
       "  </thead>\n",
       "  <tbody>\n",
       "    <tr>\n",
       "      <th>0</th>\n",
       "      <td>3</td>\n",
       "      <td>Panama</td>\n",
       "    </tr>\n",
       "    <tr>\n",
       "      <th>1</th>\n",
       "      <td>4</td>\n",
       "      <td>Spain</td>\n",
       "    </tr>\n",
       "  </tbody>\n",
       "</table>\n",
       "</div>"
      ],
      "text/plain": [
       "   ID Country\n",
       "0   3  Panama\n",
       "1   4   Spain"
      ]
     },
     "execution_count": 12,
     "metadata": {},
     "output_type": "execute_result"
    }
   ],
   "source": [
    "right_table =  {'ID': [3,4],\n",
    "               'Country': ['Panama','Spain']}\n",
    "\n",
    "right_table_df = pd.DataFrame(right_table)\n",
    "right_table_df"
   ]
  },
  {
   "cell_type": "markdown",
   "id": "d47b7e30",
   "metadata": {},
   "source": [
    "- STEP:1 For `right anti` simply merge yhe table with `right join` with params `indicator=True`\n",
    "- STEP:2 Create a filter for left_ony rows\n",
    "- STEP:3 Apply that filter on whole dataset"
   ]
  },
  {
   "cell_type": "code",
   "execution_count": 13,
   "id": "ff3c59f0",
   "metadata": {},
   "outputs": [],
   "source": [
    "right_anti_df = left_table_df.merge(right_table_df,\n",
    "                                    how='right',\n",
    "                                    left_on='CountryID',\n",
    "                                    right_on='ID',\n",
    "                                    indicator=True).drop('ID', axis=1)"
   ]
  },
  {
   "cell_type": "code",
   "execution_count": 14,
   "id": "eb74b01b",
   "metadata": {},
   "outputs": [
    {
     "name": "stderr",
     "output_type": "stream",
     "text": [
      "C:\\Users\\smit\\AppData\\Local\\Temp\\ipykernel_9964\\3635338087.py:1: UserWarning: Boolean Series key will be reindexed to match DataFrame index.\n",
      "  right_anti_df[left_anti_df['_merge'] == 'right_only'].drop('_merge', axis=1)\n"
     ]
    },
    {
     "data": {
      "text/html": [
       "<div>\n",
       "<style scoped>\n",
       "    .dataframe tbody tr th:only-of-type {\n",
       "        vertical-align: middle;\n",
       "    }\n",
       "\n",
       "    .dataframe tbody tr th {\n",
       "        vertical-align: top;\n",
       "    }\n",
       "\n",
       "    .dataframe thead th {\n",
       "        text-align: right;\n",
       "    }\n",
       "</style>\n",
       "<table border=\"1\" class=\"dataframe\">\n",
       "  <thead>\n",
       "    <tr style=\"text-align: right;\">\n",
       "      <th></th>\n",
       "      <th>Date</th>\n",
       "      <th>CountryID</th>\n",
       "      <th>Units</th>\n",
       "      <th>Country</th>\n",
       "    </tr>\n",
       "  </thead>\n",
       "  <tbody>\n",
       "  </tbody>\n",
       "</table>\n",
       "</div>"
      ],
      "text/plain": [
       "Empty DataFrame\n",
       "Columns: [Date, CountryID, Units, Country]\n",
       "Index: []"
      ]
     },
     "execution_count": 14,
     "metadata": {},
     "output_type": "execute_result"
    }
   ],
   "source": [
    "right_anti_df[left_anti_df['_merge'] == 'right_only'].drop('_merge', axis=1)"
   ]
  },
  {
   "cell_type": "markdown",
   "id": "032a85a6",
   "metadata": {},
   "source": [
    "### `LEFT SEMI` JOINS\n",
    "\n",
    "- STEP:1 Return the `intersection`, similar to an `inner join`\n",
    "- STEP:2 Return only column from `left table` and not the rigth\n",
    "- STEP:3 `No duplicated`"
   ]
  },
  {
   "cell_type": "code",
   "execution_count": 3,
   "id": "f4210f40",
   "metadata": {},
   "outputs": [
    {
     "data": {
      "text/html": [
       "<div>\n",
       "<style scoped>\n",
       "    .dataframe tbody tr th:only-of-type {\n",
       "        vertical-align: middle;\n",
       "    }\n",
       "\n",
       "    .dataframe tbody tr th {\n",
       "        vertical-align: top;\n",
       "    }\n",
       "\n",
       "    .dataframe thead th {\n",
       "        text-align: right;\n",
       "    }\n",
       "</style>\n",
       "<table border=\"1\" class=\"dataframe\">\n",
       "  <thead>\n",
       "    <tr style=\"text-align: right;\">\n",
       "      <th></th>\n",
       "      <th>Date</th>\n",
       "      <th>CountryID</th>\n",
       "      <th>Units</th>\n",
       "    </tr>\n",
       "  </thead>\n",
       "  <tbody>\n",
       "    <tr>\n",
       "      <th>0</th>\n",
       "      <td>1/1/2020</td>\n",
       "      <td>1</td>\n",
       "      <td>40</td>\n",
       "    </tr>\n",
       "    <tr>\n",
       "      <th>1</th>\n",
       "      <td>1/2/2020</td>\n",
       "      <td>1</td>\n",
       "      <td>25</td>\n",
       "    </tr>\n",
       "    <tr>\n",
       "      <th>2</th>\n",
       "      <td>1/3/2020</td>\n",
       "      <td>3</td>\n",
       "      <td>30</td>\n",
       "    </tr>\n",
       "    <tr>\n",
       "      <th>3</th>\n",
       "      <td>1/4/2020</td>\n",
       "      <td>2</td>\n",
       "      <td>35</td>\n",
       "    </tr>\n",
       "  </tbody>\n",
       "</table>\n",
       "</div>"
      ],
      "text/plain": [
       "       Date  CountryID  Units\n",
       "0  1/1/2020          1     40\n",
       "1  1/2/2020          1     25\n",
       "2  1/3/2020          3     30\n",
       "3  1/4/2020          2     35"
      ]
     },
     "execution_count": 3,
     "metadata": {},
     "output_type": "execute_result"
    }
   ],
   "source": [
    "left_table = {'Date': ['1/1/2020', '1/2/2020', '1/3/2020', '1/4/2020'] ,\n",
    "             'CountryID': [1,1,3,2],\n",
    "             'Units': [40, 25, 30, 35]}\n",
    "\n",
    "left_table_df = pd.DataFrame(left_table)\n",
    "left_table_df"
   ]
  },
  {
   "cell_type": "code",
   "execution_count": 4,
   "id": "b64c5cd1",
   "metadata": {},
   "outputs": [
    {
     "data": {
      "text/html": [
       "<div>\n",
       "<style scoped>\n",
       "    .dataframe tbody tr th:only-of-type {\n",
       "        vertical-align: middle;\n",
       "    }\n",
       "\n",
       "    .dataframe tbody tr th {\n",
       "        vertical-align: top;\n",
       "    }\n",
       "\n",
       "    .dataframe thead th {\n",
       "        text-align: right;\n",
       "    }\n",
       "</style>\n",
       "<table border=\"1\" class=\"dataframe\">\n",
       "  <thead>\n",
       "    <tr style=\"text-align: right;\">\n",
       "      <th></th>\n",
       "      <th>ID</th>\n",
       "      <th>Country</th>\n",
       "    </tr>\n",
       "  </thead>\n",
       "  <tbody>\n",
       "    <tr>\n",
       "      <th>0</th>\n",
       "      <td>1</td>\n",
       "      <td>USA</td>\n",
       "    </tr>\n",
       "    <tr>\n",
       "      <th>1</th>\n",
       "      <td>3</td>\n",
       "      <td>Panama</td>\n",
       "    </tr>\n",
       "    <tr>\n",
       "      <th>2</th>\n",
       "      <td>4</td>\n",
       "      <td>Spain</td>\n",
       "    </tr>\n",
       "  </tbody>\n",
       "</table>\n",
       "</div>"
      ],
      "text/plain": [
       "   ID Country\n",
       "0   1     USA\n",
       "1   3  Panama\n",
       "2   4   Spain"
      ]
     },
     "execution_count": 4,
     "metadata": {},
     "output_type": "execute_result"
    }
   ],
   "source": [
    "right_table =  {'ID': [1,3,4],\n",
    "               'Country': ['USA', 'Panama','Spain']}\n",
    "\n",
    "right_table_df = pd.DataFrame(right_table)\n",
    "right_table_df"
   ]
  },
  {
   "cell_type": "code",
   "execution_count": null,
   "id": "1b54d602",
   "metadata": {},
   "outputs": [],
   "source": [
    "left_semi_join = left_table_df.merge(right_table_df,\n",
    "                    left_on='CountryID',\n",
    "                    right_on='ID').drop('ID', axis=1)"
   ]
  },
  {
   "cell_type": "code",
   "execution_count": null,
   "id": "8db81950",
   "metadata": {},
   "outputs": [],
   "source": [
    "left_semi_join"
   ]
  },
  {
   "cell_type": "code",
   "execution_count": null,
   "id": "af8baf27",
   "metadata": {},
   "outputs": [],
   "source": [
    "left_semi_join[['Date',\n",
    "                'CountryID',\n",
    "                'Units']].drop_duplicates(subset='CountryID')"
   ]
  },
  {
   "cell_type": "markdown",
   "id": "c783e61a",
   "metadata": {},
   "source": [
    "### `RIGHT SEMI` JOINS\n",
    "\n",
    "- STEP:1 Return the `intersection`, similar to an `inner join`\n",
    "- STEP:2 Return only column from `right table` and not the left\n",
    "- STEP:3 `No duplicated`"
   ]
  },
  {
   "cell_type": "code",
   "execution_count": null,
   "id": "471efd8f",
   "metadata": {},
   "outputs": [],
   "source": [
    "right_semi_join = left_table_df.merge(right_table_df,\n",
    "                    left_on='CountryID',\n",
    "                    right_on='ID').drop('CountryID', axis=1)"
   ]
  },
  {
   "cell_type": "code",
   "execution_count": null,
   "id": "b2ad957f",
   "metadata": {},
   "outputs": [],
   "source": [
    "right_semi_join"
   ]
  },
  {
   "cell_type": "code",
   "execution_count": null,
   "id": "59e7787f",
   "metadata": {},
   "outputs": [],
   "source": [
    "right_semi_join[['ID',\n",
    "                'Country']].drop_duplicates(subset='ID')"
   ]
  },
  {
   "cell_type": "markdown",
   "id": "8fa00546",
   "metadata": {},
   "source": [
    "### SOMTHING MORE"
   ]
  },
  {
   "cell_type": "code",
   "execution_count": 6,
   "id": "88d59bd8",
   "metadata": {},
   "outputs": [
    {
     "data": {
      "text/html": [
       "<div>\n",
       "<style scoped>\n",
       "    .dataframe tbody tr th:only-of-type {\n",
       "        vertical-align: middle;\n",
       "    }\n",
       "\n",
       "    .dataframe tbody tr th {\n",
       "        vertical-align: top;\n",
       "    }\n",
       "\n",
       "    .dataframe thead th {\n",
       "        text-align: right;\n",
       "    }\n",
       "</style>\n",
       "<table border=\"1\" class=\"dataframe\">\n",
       "  <thead>\n",
       "    <tr style=\"text-align: right;\">\n",
       "      <th></th>\n",
       "      <th>Date</th>\n",
       "      <th>CountryID</th>\n",
       "      <th>Units</th>\n",
       "      <th>ID</th>\n",
       "      <th>Country</th>\n",
       "    </tr>\n",
       "  </thead>\n",
       "  <tbody>\n",
       "    <tr>\n",
       "      <th>0</th>\n",
       "      <td>1/1/2020</td>\n",
       "      <td>1</td>\n",
       "      <td>40</td>\n",
       "      <td>1</td>\n",
       "      <td>USA</td>\n",
       "    </tr>\n",
       "    <tr>\n",
       "      <th>1</th>\n",
       "      <td>1/2/2020</td>\n",
       "      <td>1</td>\n",
       "      <td>25</td>\n",
       "      <td>1</td>\n",
       "      <td>USA</td>\n",
       "    </tr>\n",
       "    <tr>\n",
       "      <th>2</th>\n",
       "      <td>1/3/2020</td>\n",
       "      <td>3</td>\n",
       "      <td>30</td>\n",
       "      <td>3</td>\n",
       "      <td>Panama</td>\n",
       "    </tr>\n",
       "  </tbody>\n",
       "</table>\n",
       "</div>"
      ],
      "text/plain": [
       "       Date  CountryID  Units  ID Country\n",
       "0  1/1/2020          1     40   1     USA\n",
       "1  1/2/2020          1     25   1     USA\n",
       "2  1/3/2020          3     30   3  Panama"
      ]
     },
     "execution_count": 6,
     "metadata": {},
     "output_type": "execute_result"
    }
   ],
   "source": [
    "left_table_df.merge(right_table_df,\n",
    "                    left_on='CountryID',\n",
    "                    right_on='ID',\n",
    "                    suffixes=('_x', '_y'))"
   ]
  },
  {
   "cell_type": "markdown",
   "id": "b06ca9eb",
   "metadata": {},
   "source": [
    "## CONCATENATION"
   ]
  },
  {
   "cell_type": "code",
   "execution_count": 15,
   "id": "4723ef26",
   "metadata": {},
   "outputs": [
    {
     "data": {
      "text/html": [
       "<div>\n",
       "<style scoped>\n",
       "    .dataframe tbody tr th:only-of-type {\n",
       "        vertical-align: middle;\n",
       "    }\n",
       "\n",
       "    .dataframe tbody tr th {\n",
       "        vertical-align: top;\n",
       "    }\n",
       "\n",
       "    .dataframe thead th {\n",
       "        text-align: right;\n",
       "    }\n",
       "</style>\n",
       "<table border=\"1\" class=\"dataframe\">\n",
       "  <thead>\n",
       "    <tr style=\"text-align: right;\">\n",
       "      <th></th>\n",
       "      <th>Date</th>\n",
       "      <th>CountryID</th>\n",
       "      <th>Units</th>\n",
       "      <th>Country</th>\n",
       "      <th>_merge</th>\n",
       "    </tr>\n",
       "  </thead>\n",
       "  <tbody>\n",
       "    <tr>\n",
       "      <th>0</th>\n",
       "      <td>1/1/2020</td>\n",
       "      <td>1</td>\n",
       "      <td>40</td>\n",
       "      <td>NaN</td>\n",
       "      <td>left_only</td>\n",
       "    </tr>\n",
       "    <tr>\n",
       "      <th>1</th>\n",
       "      <td>1/2/2020</td>\n",
       "      <td>1</td>\n",
       "      <td>25</td>\n",
       "      <td>NaN</td>\n",
       "      <td>left_only</td>\n",
       "    </tr>\n",
       "    <tr>\n",
       "      <th>2</th>\n",
       "      <td>1/3/2020</td>\n",
       "      <td>3</td>\n",
       "      <td>30</td>\n",
       "      <td>Panama</td>\n",
       "      <td>both</td>\n",
       "    </tr>\n",
       "    <tr>\n",
       "      <th>3</th>\n",
       "      <td>1/4/2020</td>\n",
       "      <td>2</td>\n",
       "      <td>35</td>\n",
       "      <td>NaN</td>\n",
       "      <td>left_only</td>\n",
       "    </tr>\n",
       "  </tbody>\n",
       "</table>\n",
       "</div>"
      ],
      "text/plain": [
       "       Date  CountryID  Units Country     _merge\n",
       "0  1/1/2020          1     40     NaN  left_only\n",
       "1  1/2/2020          1     25     NaN  left_only\n",
       "2  1/3/2020          3     30  Panama       both\n",
       "3  1/4/2020          2     35     NaN  left_only"
      ]
     },
     "execution_count": 15,
     "metadata": {},
     "output_type": "execute_result"
    }
   ],
   "source": [
    "left_anti_df"
   ]
  },
  {
   "cell_type": "code",
   "execution_count": 16,
   "id": "2dfb088b",
   "metadata": {},
   "outputs": [
    {
     "data": {
      "text/html": [
       "<div>\n",
       "<style scoped>\n",
       "    .dataframe tbody tr th:only-of-type {\n",
       "        vertical-align: middle;\n",
       "    }\n",
       "\n",
       "    .dataframe tbody tr th {\n",
       "        vertical-align: top;\n",
       "    }\n",
       "\n",
       "    .dataframe thead th {\n",
       "        text-align: right;\n",
       "    }\n",
       "</style>\n",
       "<table border=\"1\" class=\"dataframe\">\n",
       "  <thead>\n",
       "    <tr style=\"text-align: right;\">\n",
       "      <th></th>\n",
       "      <th>Date</th>\n",
       "      <th>CountryID</th>\n",
       "      <th>Units</th>\n",
       "      <th>Country</th>\n",
       "      <th>_merge</th>\n",
       "    </tr>\n",
       "  </thead>\n",
       "  <tbody>\n",
       "    <tr>\n",
       "      <th>0</th>\n",
       "      <td>1/3/2020</td>\n",
       "      <td>3.0</td>\n",
       "      <td>30.0</td>\n",
       "      <td>Panama</td>\n",
       "      <td>both</td>\n",
       "    </tr>\n",
       "    <tr>\n",
       "      <th>1</th>\n",
       "      <td>NaN</td>\n",
       "      <td>NaN</td>\n",
       "      <td>NaN</td>\n",
       "      <td>Spain</td>\n",
       "      <td>right_only</td>\n",
       "    </tr>\n",
       "  </tbody>\n",
       "</table>\n",
       "</div>"
      ],
      "text/plain": [
       "       Date  CountryID  Units Country      _merge\n",
       "0  1/3/2020        3.0   30.0  Panama        both\n",
       "1       NaN        NaN    NaN   Spain  right_only"
      ]
     },
     "execution_count": 16,
     "metadata": {},
     "output_type": "execute_result"
    }
   ],
   "source": [
    "right_anti_df"
   ]
  },
  {
   "cell_type": "code",
   "execution_count": 18,
   "id": "73003984",
   "metadata": {},
   "outputs": [
    {
     "data": {
      "text/html": [
       "<div>\n",
       "<style scoped>\n",
       "    .dataframe tbody tr th:only-of-type {\n",
       "        vertical-align: middle;\n",
       "    }\n",
       "\n",
       "    .dataframe tbody tr th {\n",
       "        vertical-align: top;\n",
       "    }\n",
       "\n",
       "    .dataframe thead th {\n",
       "        text-align: right;\n",
       "    }\n",
       "</style>\n",
       "<table border=\"1\" class=\"dataframe\">\n",
       "  <thead>\n",
       "    <tr style=\"text-align: right;\">\n",
       "      <th></th>\n",
       "      <th>Date</th>\n",
       "      <th>CountryID</th>\n",
       "      <th>Units</th>\n",
       "      <th>Country</th>\n",
       "      <th>_merge</th>\n",
       "    </tr>\n",
       "  </thead>\n",
       "  <tbody>\n",
       "    <tr>\n",
       "      <th>0</th>\n",
       "      <td>1/1/2020</td>\n",
       "      <td>1.0</td>\n",
       "      <td>40.0</td>\n",
       "      <td>NaN</td>\n",
       "      <td>left_only</td>\n",
       "    </tr>\n",
       "    <tr>\n",
       "      <th>1</th>\n",
       "      <td>1/2/2020</td>\n",
       "      <td>1.0</td>\n",
       "      <td>25.0</td>\n",
       "      <td>NaN</td>\n",
       "      <td>left_only</td>\n",
       "    </tr>\n",
       "    <tr>\n",
       "      <th>2</th>\n",
       "      <td>1/3/2020</td>\n",
       "      <td>3.0</td>\n",
       "      <td>30.0</td>\n",
       "      <td>Panama</td>\n",
       "      <td>both</td>\n",
       "    </tr>\n",
       "    <tr>\n",
       "      <th>3</th>\n",
       "      <td>1/4/2020</td>\n",
       "      <td>2.0</td>\n",
       "      <td>35.0</td>\n",
       "      <td>NaN</td>\n",
       "      <td>left_only</td>\n",
       "    </tr>\n",
       "    <tr>\n",
       "      <th>4</th>\n",
       "      <td>1/3/2020</td>\n",
       "      <td>3.0</td>\n",
       "      <td>30.0</td>\n",
       "      <td>Panama</td>\n",
       "      <td>both</td>\n",
       "    </tr>\n",
       "    <tr>\n",
       "      <th>5</th>\n",
       "      <td>NaN</td>\n",
       "      <td>NaN</td>\n",
       "      <td>NaN</td>\n",
       "      <td>Spain</td>\n",
       "      <td>right_only</td>\n",
       "    </tr>\n",
       "  </tbody>\n",
       "</table>\n",
       "</div>"
      ],
      "text/plain": [
       "       Date  CountryID  Units Country      _merge\n",
       "0  1/1/2020        1.0   40.0     NaN   left_only\n",
       "1  1/2/2020        1.0   25.0     NaN   left_only\n",
       "2  1/3/2020        3.0   30.0  Panama        both\n",
       "3  1/4/2020        2.0   35.0     NaN   left_only\n",
       "4  1/3/2020        3.0   30.0  Panama        both\n",
       "5       NaN        NaN    NaN   Spain  right_only"
      ]
     },
     "execution_count": 18,
     "metadata": {},
     "output_type": "execute_result"
    }
   ],
   "source": [
    "pd.concat([left_anti_df, right_anti_df], ignore_index=True)"
   ]
  },
  {
   "cell_type": "markdown",
   "id": "15356de8",
   "metadata": {},
   "source": [
    "### Thats it"
   ]
  },
  {
   "cell_type": "code",
   "execution_count": null,
   "id": "fac8003c",
   "metadata": {},
   "outputs": [],
   "source": []
  }
 ],
 "metadata": {
  "kernelspec": {
   "display_name": "Python 3 (ipykernel)",
   "language": "python",
   "name": "python3"
  },
  "language_info": {
   "codemirror_mode": {
    "name": "ipython",
    "version": 3
   },
   "file_extension": ".py",
   "mimetype": "text/x-python",
   "name": "python",
   "nbconvert_exporter": "python",
   "pygments_lexer": "ipython3",
   "version": "3.11.5"
  }
 },
 "nbformat": 4,
 "nbformat_minor": 5
}
