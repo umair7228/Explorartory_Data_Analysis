{
  "metadata": {
    "kernelspec": {
      "name": "python",
      "display_name": "Python (Pyodide)",
      "language": "python"
    },
    "language_info": {
      "codemirror_mode": {
        "name": "python",
        "version": 3
      },
      "file_extension": ".py",
      "mimetype": "text/x-python",
      "name": "python",
      "nbconvert_exporter": "python",
      "pygments_lexer": "ipython3",
      "version": "3.8"
    }
  },
  "nbformat_minor": 4,
  "nbformat": 4,
  "cells": [
    {
      "cell_type": "markdown",
      "source": "# Numpy",
      "metadata": {}
    },
    {
      "cell_type": "markdown",
      "source": "### Lists Recap\n- powerful\n- collection of values\n- Hold different types\n- change, add, remove\n- Need for data Sciencce ?\n    - Mathematical Operations Over Collections\n    - Speed",
      "metadata": {}
    },
    {
      "cell_type": "markdown",
      "source": "### Illustration of Analysis",
      "metadata": {}
    },
    {
      "cell_type": "code",
      "source": "height = [4.35, 5.43, 7, 3.56]\nweight = [40.5, 56.7, 76.3, 54.7]\n\nweight / height ** 2",
      "metadata": {
        "trusted": true
      },
      "outputs": [
        {
          "ename": "<class 'TypeError'>",
          "evalue": "unsupported operand type(s) for ** or pow(): 'list' and 'int'",
          "traceback": [
            "\u001b[0;31m---------------------------------------------------------------------------\u001b[0m",
            "\u001b[0;31mTypeError\u001b[0m                                 Traceback (most recent call last)",
            "Cell \u001b[0;32mIn[1], line 4\u001b[0m\n\u001b[1;32m      1\u001b[0m height \u001b[38;5;241m=\u001b[39m [\u001b[38;5;241m4.35\u001b[39m, \u001b[38;5;241m5.43\u001b[39m, \u001b[38;5;241m7\u001b[39m, \u001b[38;5;241m3.56\u001b[39m]\n\u001b[1;32m      2\u001b[0m weight \u001b[38;5;241m=\u001b[39m [\u001b[38;5;241m40.5\u001b[39m, \u001b[38;5;241m56.7\u001b[39m, \u001b[38;5;241m76.3\u001b[39m, \u001b[38;5;241m54.7\u001b[39m]\n\u001b[0;32m----> 4\u001b[0m weight \u001b[38;5;241m/\u001b[39m \u001b[43mheight\u001b[49m\u001b[43m \u001b[49m\u001b[38;5;241;43m*\u001b[39;49m\u001b[38;5;241;43m*\u001b[39;49m\u001b[43m \u001b[49m\u001b[38;5;241;43m2\u001b[39;49m\n",
            "\u001b[0;31mTypeError\u001b[0m: unsupported operand type(s) for ** or pow(): 'list' and 'int'"
          ],
          "output_type": "error"
        }
      ],
      "execution_count": 1
    },
    {
      "cell_type": "markdown",
      "source": "### Solution: NUMPY\n- Numeric Python\n- Alternative to Python List: Numpy Array\n- Calculations Over entire Array\n- Easy & Fast\n- Installation\n    - In the terminal: `pip install numpy`",
      "metadata": {}
    },
    {
      "cell_type": "code",
      "source": "import numpy as np\nnp_height = np.array(height)\nnp_weight = np.array(weight)\n\nbmi = np_weight / np_height ** 2\nbmi",
      "metadata": {
        "trusted": true
      },
      "outputs": [
        {
          "execution_count": 2,
          "output_type": "execute_result",
          "data": {
            "text/plain": "array([2.14030916, 1.92301822, 1.55714286, 4.31605858])"
          },
          "metadata": {}
        }
      ],
      "execution_count": 2
    },
    {
      "cell_type": "markdown",
      "source": "### Numpy: remarks\n- variety of elements\n- operators action on list vs arrays",
      "metadata": {}
    },
    {
      "cell_type": "code",
      "source": "np.array([4.34, 'is', True]) #In list we can keep multiple data types but in np array we will have to keep same datatype",
      "metadata": {
        "trusted": true
      },
      "outputs": [
        {
          "execution_count": 3,
          "output_type": "execute_result",
          "data": {
            "text/plain": "array(['4.34', 'is', 'True'], dtype='<U32')"
          },
          "metadata": {}
        }
      ],
      "execution_count": 3
    },
    {
      "cell_type": "markdown",
      "source": "#### Different Types = Different Behaviour!",
      "metadata": {}
    },
    {
      "cell_type": "code",
      "source": "python_list = [1, 2, 3, 4]\nnumpy_array = np.array([1, 2, 3, 4])",
      "metadata": {
        "trusted": true
      },
      "outputs": [],
      "execution_count": 4
    },
    {
      "cell_type": "code",
      "source": "python_list + python_list #python list will append all values",
      "metadata": {
        "trusted": true
      },
      "outputs": [
        {
          "execution_count": 5,
          "output_type": "execute_result",
          "data": {
            "text/plain": "[1, 2, 3, 4, 1, 2, 3, 4]"
          },
          "metadata": {}
        }
      ],
      "execution_count": 5
    },
    {
      "cell_type": "code",
      "source": "numpy_array + numpy_array #numpy will perform addition",
      "metadata": {
        "trusted": true
      },
      "outputs": [
        {
          "execution_count": 6,
          "output_type": "execute_result",
          "data": {
            "text/plain": "array([2, 4, 6, 8])"
          },
          "metadata": {}
        }
      ],
      "execution_count": 6
    },
    {
      "cell_type": "markdown",
      "source": "### Numpy Subsetting",
      "metadata": {}
    },
    {
      "cell_type": "code",
      "source": "bmi",
      "metadata": {
        "trusted": true
      },
      "outputs": [
        {
          "execution_count": 7,
          "output_type": "execute_result",
          "data": {
            "text/plain": "array([2.14030916, 1.92301822, 1.55714286, 4.31605858])"
          },
          "metadata": {}
        }
      ],
      "execution_count": 7
    },
    {
      "cell_type": "code",
      "source": "bmi[2]",
      "metadata": {
        "trusted": true
      },
      "outputs": [
        {
          "execution_count": 8,
          "output_type": "execute_result",
          "data": {
            "text/plain": "1.5571428571428572"
          },
          "metadata": {}
        }
      ],
      "execution_count": 8
    },
    {
      "cell_type": "code",
      "source": "bmi > 2",
      "metadata": {
        "trusted": true
      },
      "outputs": [
        {
          "execution_count": 9,
          "output_type": "execute_result",
          "data": {
            "text/plain": "array([ True, False, False,  True])"
          },
          "metadata": {}
        }
      ],
      "execution_count": 9
    },
    {
      "cell_type": "code",
      "source": "bmi[bmi > 2]",
      "metadata": {
        "trusted": true
      },
      "outputs": [
        {
          "execution_count": 10,
          "output_type": "execute_result",
          "data": {
            "text/plain": "array([2.14030916, 4.31605858])"
          },
          "metadata": {}
        }
      ],
      "execution_count": 10
    },
    {
      "cell_type": "markdown",
      "source": "# 2D Numpy Arrays\n- array.ndim() & type(array)",
      "metadata": {}
    },
    {
      "cell_type": "code",
      "source": "print(np_height)\nprint(np_weight)",
      "metadata": {
        "trusted": true
      },
      "outputs": [
        {
          "name": "stdout",
          "text": "[4.35 5.43 7.   3.56]\n[40.5 56.7 76.3 54.7]\n",
          "output_type": "stream"
        }
      ],
      "execution_count": 11
    },
    {
      "cell_type": "code",
      "source": "type(np_height)",
      "metadata": {
        "trusted": true
      },
      "outputs": [
        {
          "execution_count": 12,
          "output_type": "execute_result",
          "data": {
            "text/plain": "numpy.ndarray"
          },
          "metadata": {}
        }
      ],
      "execution_count": 12
    },
    {
      "cell_type": "code",
      "source": "np_height.ndim #-->numpy dimension",
      "metadata": {
        "trusted": true
      },
      "outputs": [
        {
          "execution_count": 13,
          "output_type": "execute_result",
          "data": {
            "text/plain": "1"
          },
          "metadata": {}
        }
      ],
      "execution_count": 13
    },
    {
      "cell_type": "code",
      "source": "np_2d = np.array([[4.35, 5.43, 7, 3.56],\n                  [40.5, 56.7, 76.3, 54.7]])",
      "metadata": {
        "trusted": true
      },
      "outputs": [],
      "execution_count": 14
    },
    {
      "cell_type": "code",
      "source": "np_2d.ndim",
      "metadata": {
        "trusted": true
      },
      "outputs": [
        {
          "execution_count": 15,
          "output_type": "execute_result",
          "data": {
            "text/plain": "2"
          },
          "metadata": {}
        }
      ],
      "execution_count": 15
    },
    {
      "cell_type": "code",
      "source": "np_2d.shape #2 rows and 4 colums",
      "metadata": {
        "trusted": true
      },
      "outputs": [
        {
          "execution_count": 16,
          "output_type": "execute_result",
          "data": {
            "text/plain": "(2, 4)"
          },
          "metadata": {}
        }
      ],
      "execution_count": 16
    },
    {
      "cell_type": "markdown",
      "source": "### Subsetting on 2 dimensions",
      "metadata": {}
    },
    {
      "cell_type": "code",
      "source": "np_2d",
      "metadata": {
        "trusted": true
      },
      "outputs": [
        {
          "execution_count": 17,
          "output_type": "execute_result",
          "data": {
            "text/plain": "array([[ 4.35,  5.43,  7.  ,  3.56],\n       [40.5 , 56.7 , 76.3 , 54.7 ]])"
          },
          "metadata": {}
        }
      ],
      "execution_count": 17
    },
    {
      "cell_type": "code",
      "source": "np_2d[0]",
      "metadata": {
        "trusted": true
      },
      "outputs": [
        {
          "execution_count": 18,
          "output_type": "execute_result",
          "data": {
            "text/plain": "array([4.35, 5.43, 7.  , 3.56])"
          },
          "metadata": {}
        }
      ],
      "execution_count": 18
    },
    {
      "cell_type": "code",
      "source": "np_2d[0][1:3] # first brakets will show rows and 2nd bratets will show columns",
      "metadata": {
        "trusted": true
      },
      "outputs": [
        {
          "execution_count": 19,
          "output_type": "execute_result",
          "data": {
            "text/plain": "array([5.43, 7.  ])"
          },
          "metadata": {}
        }
      ],
      "execution_count": 19
    },
    {
      "cell_type": "code",
      "source": "np_2d[:, 2:] #The value before the cooma will represent the rows and after the cooma columns",
      "metadata": {
        "trusted": true
      },
      "outputs": [
        {
          "execution_count": 20,
          "output_type": "execute_result",
          "data": {
            "text/plain": "array([[ 7.  ,  3.56],\n       [76.3 , 54.7 ]])"
          },
          "metadata": {}
        }
      ],
      "execution_count": 20
    },
    {
      "cell_type": "code",
      "source": "np_2d [1,:]",
      "metadata": {
        "trusted": true
      },
      "outputs": [
        {
          "execution_count": 21,
          "output_type": "execute_result",
          "data": {
            "text/plain": "array([40.5, 56.7, 76.3, 54.7])"
          },
          "metadata": {}
        }
      ],
      "execution_count": 21
    },
    {
      "cell_type": "markdown",
      "source": "### Numpy: Basic Statistics\n\n- Data analysis\n    - Get to know your data\n    - Little data -> Simply Look at it\n    - big data -> ??\n\n- np.mean(), np.median(), np.mode(), np.corrcoef(), np.std(), np.sort() <br>\n- np_city[:,0]",
      "metadata": {}
    },
    {
      "cell_type": "code",
      "source": "import numpy as np\n\nnp_city = np.array([[1.64, 71.78],[1.37, 63.35], [1.76, 55.09],[2.04, 74.85],[2.04, 68.72],[2.01, 73.57],\n                   [2.64, 73.78],[3.37, 65.35], [4.76, 65.09],[5.04, 76.85],[6.04, 68.72],[7.01, 73.67],\n                   [1.64, 71.78],[1.37, 63.35], [1.76, 55.09],[2.04, 74.85],[2.04, 68.72],[2.01, 73.57]])",
      "metadata": {
        "trusted": true
      },
      "outputs": [],
      "execution_count": 28
    },
    {
      "cell_type": "code",
      "source": "np.mean(np_city[:, 1])",
      "metadata": {
        "trusted": true
      },
      "outputs": [
        {
          "execution_count": 23,
          "output_type": "execute_result",
          "data": {
            "text/plain": "68.78777777777776"
          },
          "metadata": {}
        }
      ],
      "execution_count": 23
    },
    {
      "cell_type": "code",
      "source": "np.median(np_city[0,:])",
      "metadata": {
        "trusted": true
      },
      "outputs": [
        {
          "execution_count": 24,
          "output_type": "execute_result",
          "data": {
            "text/plain": "36.71"
          },
          "metadata": {}
        }
      ],
      "execution_count": 24
    },
    {
      "cell_type": "code",
      "source": "np.sum(np_city[:, 0])",
      "metadata": {
        "trusted": true
      },
      "outputs": [
        {
          "execution_count": 25,
          "output_type": "execute_result",
          "data": {
            "text/plain": "50.58"
          },
          "metadata": {}
        }
      ],
      "execution_count": 25
    },
    {
      "cell_type": "code",
      "source": "np.corrcoef(np_city[:, 0])",
      "metadata": {
        "trusted": true
      },
      "outputs": [
        {
          "execution_count": 26,
          "output_type": "execute_result",
          "data": {
            "text/plain": "1.0"
          },
          "metadata": {}
        }
      ],
      "execution_count": 26
    },
    {
      "cell_type": "code",
      "source": "np.sort(np_city[0, 0:2])",
      "metadata": {
        "trusted": true
      },
      "outputs": [
        {
          "execution_count": 27,
          "output_type": "execute_result",
          "data": {
            "text/plain": "array([ 1.64, 71.78])"
          },
          "metadata": {}
        }
      ],
      "execution_count": 27
    },
    {
      "cell_type": "markdown",
      "source": "- sum(), sort(), ...\n- Enforce single data type: speed!",
      "metadata": {}
    },
    {
      "cell_type": "markdown",
      "source": "### Generate data\n- Arguments for np.random.normal() --> np.column_stack(())\n- distribution mean\n- distribution standard deviation\n- number of samples",
      "metadata": {}
    },
    {
      "cell_type": "code",
      "source": "random_height = np.round(np.random.normal(4.4, 7, 25), 2)\nrandom_weight = np.round(np.random.normal(40.2, 75, 25), 2)\n\nnp_city1 = np.column_stack((random_height, random_weight))\nnp_city1",
      "metadata": {
        "trusted": true
      },
      "outputs": [
        {
          "execution_count": 33,
          "output_type": "execute_result",
          "data": {
            "text/plain": "array([[ 11.99,  10.5 ],\n       [ 13.  ,  32.56],\n       [  8.92,  41.41],\n       [  5.32,  52.15],\n       [  4.62, 105.52],\n       [ 21.96,  49.68],\n       [ -7.48, -88.58],\n       [-14.02,  64.92],\n       [  4.99, -57.14],\n       [  7.32, -18.18],\n       [  5.85,  28.71],\n       [ 10.4 , 155.07],\n       [  2.84,  76.48],\n       [  6.58,  61.14],\n       [  4.65,  52.52],\n       [  1.22, 117.  ],\n       [ 15.66,  33.29],\n       [ 12.53,  92.68],\n       [  3.92, -29.88],\n       [ 12.56,  44.6 ],\n       [ 14.92, -59.16],\n       [  7.53,  42.65],\n       [  7.01,  34.61],\n       [ 14.29,  83.68],\n       [ -4.31,  49.83]])"
          },
          "metadata": {}
        }
      ],
      "execution_count": 33
    }
  ]
}