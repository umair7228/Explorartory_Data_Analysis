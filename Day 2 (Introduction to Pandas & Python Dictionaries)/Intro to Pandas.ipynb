{
  "metadata": {
    "kernelspec": {
      "name": "python",
      "display_name": "Python (Pyodide)",
      "language": "python"
    },
    "language_info": {
      "codemirror_mode": {
        "name": "python",
        "version": 3
      },
      "file_extension": ".py",
      "mimetype": "text/x-python",
      "name": "python",
      "nbconvert_exporter": "python",
      "pygments_lexer": "ipython3",
      "version": "3.8"
    }
  },
  "nbformat_minor": 5,
  "nbformat": 4,
  "cells": [
    {
      "id": "3ae26d25-2554-499f-a93a-2bdd4d5da8c9",
      "cell_type": "markdown",
      "source": "### Recap\n- countries\n- populations",
      "metadata": {}
    },
    {
      "id": "6f56132b-f785-4c24-9e1e-3244aed72619",
      "cell_type": "code",
      "source": "countries = ['China', 'India', 'United States', 'Indonesia', 'Pakistan', 'Brazil', 'Nigeria']\npop = [1425000000, 1408000000, 340000000, 277000000, 240000000, 215000000, 223000000]",
      "metadata": {
        "trusted": true
      },
      "outputs": [],
      "execution_count": 1
    },
    {
      "id": "fb113a0f-d0d6-4b39-bd0b-d5b2acb650c9",
      "cell_type": "code",
      "source": "count_pop = countries.index('Pakistan')\ncount_pop # find the index of pakistan",
      "metadata": {
        "trusted": true
      },
      "outputs": [
        {
          "execution_count": 2,
          "output_type": "execute_result",
          "data": {
            "text/plain": "4"
          },
          "metadata": {}
        }
      ],
      "execution_count": 2
    },
    {
      "id": "88b8509e-5255-4137-b7f6-9315e8ba9e09",
      "cell_type": "code",
      "source": "pop[4] # find the population of pakistan by that index number",
      "metadata": {
        "trusted": true
      },
      "outputs": [
        {
          "execution_count": 3,
          "output_type": "execute_result",
          "data": {
            "text/plain": "240000000"
          },
          "metadata": {}
        }
      ],
      "execution_count": 3
    },
    {
      "id": "07e18149-60f9-420b-a28a-2f07ed35a66b",
      "cell_type": "markdown",
      "source": "This way of extracting values is not adaptable because:\n- Not convenient\n- Not intutive\n\nSolution is **Dictionaries**",
      "metadata": {}
    },
    {
      "id": "71a0cbec-d158-434e-944e-6e89e0552d15",
      "cell_type": "markdown",
      "source": "## Dictionaries\n- Accept different type\n- Keys have to be \"immutable\" objects ->> Error\n- add values\n- edit value\n- **in** Keyword\n- delete any element",
      "metadata": {}
    },
    {
      "id": "036f8c6c-ed00-49bd-afb5-3fd4dae51b78",
      "cell_type": "code",
      "source": "# Extracting values by dictionary\ncount_pop_dict = {'China': 1425000000,\n                  'India': 1408000000,\n                  'United States': 340000000,\n                  'Indonesia': 277000000,\n                  'Pakistan': 240000000,\n                  'Brazil': 215000000,\n                  'Nigeria': 223000000}\n\ncount_pop_dict",
      "metadata": {
        "trusted": true
      },
      "outputs": [
        {
          "execution_count": 4,
          "output_type": "execute_result",
          "data": {
            "text/plain": "{'China': 1425000000,\n 'India': 1408000000,\n 'United States': 340000000,\n 'Indonesia': 277000000,\n 'Pakistan': 240000000,\n 'Brazil': 215000000,\n 'Nigeria': 223000000}"
          },
          "metadata": {}
        }
      ],
      "execution_count": 4
    },
    {
      "id": "518412fe-bfdf-423f-ac78-925251bd4b36",
      "cell_type": "code",
      "source": "count_pop_dict['United States']",
      "metadata": {
        "trusted": true
      },
      "outputs": [
        {
          "execution_count": 5,
          "output_type": "execute_result",
          "data": {
            "text/plain": "340000000"
          },
          "metadata": {}
        }
      ],
      "execution_count": 5
    },
    {
      "id": "0d7f708f-492a-421a-8531-04a0a75cb25c",
      "cell_type": "code",
      "source": "{[\"Umair\", \"Noman\", \"Salman\"]: \"Names\"} #dictionary doesn't accept mutable keys so it will show the error",
      "metadata": {
        "trusted": true
      },
      "outputs": [
        {
          "ename": "<class 'TypeError'>",
          "evalue": "unhashable type: 'list'",
          "traceback": [
            "\u001b[0;31m---------------------------------------------------------------------------\u001b[0m",
            "\u001b[0;31mTypeError\u001b[0m                                 Traceback (most recent call last)",
            "Cell \u001b[0;32mIn[6], line 1\u001b[0m\n\u001b[0;32m----> 1\u001b[0m {[\u001b[38;5;124m\"\u001b[39m\u001b[38;5;124mUmair\u001b[39m\u001b[38;5;124m\"\u001b[39m, \u001b[38;5;124m\"\u001b[39m\u001b[38;5;124mNoman\u001b[39m\u001b[38;5;124m\"\u001b[39m, \u001b[38;5;124m\"\u001b[39m\u001b[38;5;124mSalman\u001b[39m\u001b[38;5;124m\"\u001b[39m]: \u001b[38;5;124m\"\u001b[39m\u001b[38;5;124mNames\u001b[39m\u001b[38;5;124m\"\u001b[39m} \u001b[38;5;66;03m#dictionary doesn't accept mutable keys so it will show the error\u001b[39;00m\n",
            "\u001b[0;31mTypeError\u001b[0m: unhashable type: 'list'"
          ],
          "output_type": "error"
        }
      ],
      "execution_count": 6
    },
    {
      "id": "2058d6a2-079b-4486-bd1d-f439e7fab610",
      "cell_type": "code",
      "source": "\n#Dictionary accept the immutable keys\n{\"Names\": [\"Umair\", \"Noman\", \"Salman\"]}",
      "metadata": {
        "trusted": true
      },
      "outputs": [
        {
          "execution_count": 7,
          "output_type": "execute_result",
          "data": {
            "text/plain": "{'Names': ['Umair', 'Noman', 'Salman']}"
          },
          "metadata": {}
        }
      ],
      "execution_count": 7
    },
    {
      "id": "e8be772e-9b83-4736-95ed-22c7973c0866",
      "cell_type": "code",
      "source": "# add new value in dictionary\ncount_pop_dict.update({\"Afghanistan\": 139000000})\ncount_pop_dict #Dictionary had updated",
      "metadata": {
        "trusted": true
      },
      "outputs": [
        {
          "execution_count": 8,
          "output_type": "execute_result",
          "data": {
            "text/plain": "{'China': 1425000000,\n 'India': 1408000000,\n 'United States': 340000000,\n 'Indonesia': 277000000,\n 'Pakistan': 240000000,\n 'Brazil': 215000000,\n 'Nigeria': 223000000,\n 'Afghanistan': 139000000}"
          },
          "metadata": {}
        }
      ],
      "execution_count": 8
    },
    {
      "id": "4b70a2df-6539-41e3-9e75-fa896c862be4",
      "cell_type": "code",
      "source": "#another way to add value in dict\ncount_pop_dict[\"Iran\"] = 253000000\ncount_pop_dict",
      "metadata": {
        "trusted": true
      },
      "outputs": [
        {
          "execution_count": 9,
          "output_type": "execute_result",
          "data": {
            "text/plain": "{'China': 1425000000,\n 'India': 1408000000,\n 'United States': 340000000,\n 'Indonesia': 277000000,\n 'Pakistan': 240000000,\n 'Brazil': 215000000,\n 'Nigeria': 223000000,\n 'Afghanistan': 139000000,\n 'Iran': 253000000}"
          },
          "metadata": {}
        }
      ],
      "execution_count": 9
    },
    {
      "id": "b01309aa-d9d7-42d2-add5-d97c31e1682d",
      "cell_type": "code",
      "source": "# we use the `in` keyword to check if value is in our dictionary or not let see how\nprint(\"United States\" in count_pop_dict) # It will return in boolean (True/False)\nprint(\"Canada\" in count_pop_dict) # canada is not in our dictionary",
      "metadata": {
        "trusted": true
      },
      "outputs": [
        {
          "name": "stdout",
          "text": "True\nFalse\n",
          "output_type": "stream"
        }
      ],
      "execution_count": 10
    },
    {
      "id": "3e303227-9b73-40f6-9795-b5cb4aa24d14",
      "cell_type": "code",
      "source": "#Deleting value from dictionary\ndel(count_pop_dict[\"Brazil\"])",
      "metadata": {
        "trusted": true
      },
      "outputs": [],
      "execution_count": 11
    },
    {
      "id": "3674e301-b504-4c41-b8b0-e996bda64677",
      "cell_type": "code",
      "source": "count_pop_dict #Brazil has deleted",
      "metadata": {
        "trusted": true
      },
      "outputs": [
        {
          "execution_count": 12,
          "output_type": "execute_result",
          "data": {
            "text/plain": "{'China': 1425000000,\n 'India': 1408000000,\n 'United States': 340000000,\n 'Indonesia': 277000000,\n 'Pakistan': 240000000,\n 'Nigeria': 223000000,\n 'Afghanistan': 139000000,\n 'Iran': 253000000}"
          },
          "metadata": {}
        }
      ],
      "execution_count": 12
    },
    {
      "id": "f260fec1-4d56-4931-9f46-d21201d5a5a2",
      "cell_type": "markdown",
      "source": "## List vs Dictionaries",
      "metadata": {}
    },
    {
      "id": "79d47e75-1105-4154-a42a-c2d50775b070",
      "cell_type": "markdown",
      "source": "![dic_06.webp](attachment:af6ed289-15e9-465e-8461-9aca0280d0ae.webp)",
      "metadata": {},
      "attachments": {
        "af6ed289-15e9-465e-8461-9aca0280d0ae.webp": {
          "image/webp": "[encoded data removed]"
        }
      }
    },
    {
      "id": "1d61230c-508e-4c1b-9116-004fb689b5e4",
      "cell_type": "markdown",
      "source": "## Introudction to Pandas\n- ##### Question: How can we store that data in python ? \n- Numpy Array (absolutely **NO** because in Numpy we save data of same type)",
      "metadata": {}
    },
    {
      "id": "d0258ca8-6fc1-4b93-817a-66bbdf38c5c5",
      "cell_type": "markdown",
      "source": "### Answer:  Pandas \n- high level  data manipulation\n- Wes Mckinney\n- built on Numpy\n- Data Frame\n- special concept of Series",
      "metadata": {}
    },
    {
      "id": "309d137a-6076-4764-ac6a-925e0f0c5780",
      "cell_type": "markdown",
      "source": "## Case Study: population dataset of BRICS countries\n- NOTE:\n   - key (columns, label)\n   - values(data, column by column)",
      "metadata": {}
    },
    {
      "id": "d088ca25-3ef7-49e6-b2d0-b51960b3e994",
      "cell_type": "code",
      "source": "import pandas as pd",
      "metadata": {
        "trusted": true
      },
      "outputs": [],
      "execution_count": 2
    },
    {
      "id": "aa70edf0-548f-4247-9983-cdf0191d00c9",
      "cell_type": "markdown",
      "source": "### CREATING DATAFRAME",
      "metadata": {}
    },
    {
      "id": "a26ad9a9-0c17-49b4-9faa-f4d70cc23083",
      "cell_type": "code",
      "source": "bricks = {\"country\": ['Brazil', 'Russia', 'India', 'China', 'South Africa'],\n         \"capital\": ['Brazilia', 'Moscow', 'New Delhi', 'Beijing', 'Pretoria'],\n         \"area\": [8.516, 17.100, 3.286, 9.597, 1.221],\n         \"population\": [200.40, 143.50, 1252.00, 1357.00, 52.98]}",
      "metadata": {
        "trusted": true
      },
      "outputs": [],
      "execution_count": 31
    },
    {
      "id": "432d205a-2b1f-4986-bf2e-b8185b7da0a7",
      "cell_type": "code",
      "source": "bricks_df = pd.DataFrame(bricks)\nbricks_df",
      "metadata": {
        "trusted": true
      },
      "outputs": [
        {
          "execution_count": 32,
          "output_type": "execute_result",
          "data": {
            "text/plain": "        country    capital    area  population\n0        Brazil   Brazilia   8.516      200.40\n1        Russia     Moscow  17.100      143.50\n2         India  New Delhi   3.286     1252.00\n3         China    Beijing   9.597     1357.00\n4  South Africa   Pretoria   1.221       52.98",
            "text/html": "<div>\n<style scoped>\n    .dataframe tbody tr th:only-of-type {\n        vertical-align: middle;\n    }\n\n    .dataframe tbody tr th {\n        vertical-align: top;\n    }\n\n    .dataframe thead th {\n        text-align: right;\n    }\n</style>\n<table border=\"1\" class=\"dataframe\">\n  <thead>\n    <tr style=\"text-align: right;\">\n      <th></th>\n      <th>country</th>\n      <th>capital</th>\n      <th>area</th>\n      <th>population</th>\n    </tr>\n  </thead>\n  <tbody>\n    <tr>\n      <th>0</th>\n      <td>Brazil</td>\n      <td>Brazilia</td>\n      <td>8.516</td>\n      <td>200.40</td>\n    </tr>\n    <tr>\n      <th>1</th>\n      <td>Russia</td>\n      <td>Moscow</td>\n      <td>17.100</td>\n      <td>143.50</td>\n    </tr>\n    <tr>\n      <th>2</th>\n      <td>India</td>\n      <td>New Delhi</td>\n      <td>3.286</td>\n      <td>1252.00</td>\n    </tr>\n    <tr>\n      <th>3</th>\n      <td>China</td>\n      <td>Beijing</td>\n      <td>9.597</td>\n      <td>1357.00</td>\n    </tr>\n    <tr>\n      <th>4</th>\n      <td>South Africa</td>\n      <td>Pretoria</td>\n      <td>1.221</td>\n      <td>52.98</td>\n    </tr>\n  </tbody>\n</table>\n</div>"
          },
          "metadata": {}
        }
      ],
      "execution_count": 32
    },
    {
      "id": "a5753a83-9cea-496a-b4a8-17892f7c7314",
      "cell_type": "code",
      "source": "# Change the index values\nbricks_df.index = ['BR', 'RU', 'IN', 'CH', 'SA']\nbricks_df",
      "metadata": {
        "trusted": true
      },
      "outputs": [
        {
          "execution_count": 33,
          "output_type": "execute_result",
          "data": {
            "text/plain": "         country    capital    area  population\nBR        Brazil   Brazilia   8.516      200.40\nRU        Russia     Moscow  17.100      143.50\nIN         India  New Delhi   3.286     1252.00\nCH         China    Beijing   9.597     1357.00\nSA  South Africa   Pretoria   1.221       52.98",
            "text/html": "<div>\n<style scoped>\n    .dataframe tbody tr th:only-of-type {\n        vertical-align: middle;\n    }\n\n    .dataframe tbody tr th {\n        vertical-align: top;\n    }\n\n    .dataframe thead th {\n        text-align: right;\n    }\n</style>\n<table border=\"1\" class=\"dataframe\">\n  <thead>\n    <tr style=\"text-align: right;\">\n      <th></th>\n      <th>country</th>\n      <th>capital</th>\n      <th>area</th>\n      <th>population</th>\n    </tr>\n  </thead>\n  <tbody>\n    <tr>\n      <th>BR</th>\n      <td>Brazil</td>\n      <td>Brazilia</td>\n      <td>8.516</td>\n      <td>200.40</td>\n    </tr>\n    <tr>\n      <th>RU</th>\n      <td>Russia</td>\n      <td>Moscow</td>\n      <td>17.100</td>\n      <td>143.50</td>\n    </tr>\n    <tr>\n      <th>IN</th>\n      <td>India</td>\n      <td>New Delhi</td>\n      <td>3.286</td>\n      <td>1252.00</td>\n    </tr>\n    <tr>\n      <th>CH</th>\n      <td>China</td>\n      <td>Beijing</td>\n      <td>9.597</td>\n      <td>1357.00</td>\n    </tr>\n    <tr>\n      <th>SA</th>\n      <td>South Africa</td>\n      <td>Pretoria</td>\n      <td>1.221</td>\n      <td>52.98</td>\n    </tr>\n  </tbody>\n</table>\n</div>"
          },
          "metadata": {}
        }
      ],
      "execution_count": 33
    },
    {
      "id": "fc48531d-bef5-474e-b960-a74473bccf1a",
      "cell_type": "markdown",
      "source": "change index values `df.index = []`",
      "metadata": {}
    },
    {
      "id": "dc10dc53-eb96-4239-adf3-68d1d60d85e6",
      "cell_type": "markdown",
      "source": "#### another way to create DATAFRAME is through csv (comma seperated files)",
      "metadata": {}
    },
    {
      "id": "be050816-ddcf-4d3c-975d-bd529e4030a3",
      "cell_type": "markdown",
      "source": "assume we have **'bricks.csv'** file in our directory",
      "metadata": {}
    },
    {
      "id": "64c067eb-dbf8-42be-abc5-eef98b593e99",
      "cell_type": "code",
      "source": "bricks_csv = pd.read_csv('bricks.csv', index_col=0)\nbricks_csv",
      "metadata": {
        "trusted": true
      },
      "outputs": [
        {
          "execution_count": 3,
          "output_type": "execute_result",
          "data": {
            "text/plain": "         country    capital    area  population\nBR        Brazil   Brasilia   8.516      200.40\nRU        Russia     Moscow  17.100      143.50\nIN         India  New Delhi   3.286     1252.00\nCH         China    Beijing   9.597     1357.00\nSA  South Africa   Pretoria   1.221       52.98",
            "text/html": "<div>\n<style scoped>\n    .dataframe tbody tr th:only-of-type {\n        vertical-align: middle;\n    }\n\n    .dataframe tbody tr th {\n        vertical-align: top;\n    }\n\n    .dataframe thead th {\n        text-align: right;\n    }\n</style>\n<table border=\"1\" class=\"dataframe\">\n  <thead>\n    <tr style=\"text-align: right;\">\n      <th></th>\n      <th>country</th>\n      <th>capital</th>\n      <th>area</th>\n      <th>population</th>\n    </tr>\n  </thead>\n  <tbody>\n    <tr>\n      <th>BR</th>\n      <td>Brazil</td>\n      <td>Brasilia</td>\n      <td>8.516</td>\n      <td>200.40</td>\n    </tr>\n    <tr>\n      <th>RU</th>\n      <td>Russia</td>\n      <td>Moscow</td>\n      <td>17.100</td>\n      <td>143.50</td>\n    </tr>\n    <tr>\n      <th>IN</th>\n      <td>India</td>\n      <td>New Delhi</td>\n      <td>3.286</td>\n      <td>1252.00</td>\n    </tr>\n    <tr>\n      <th>CH</th>\n      <td>China</td>\n      <td>Beijing</td>\n      <td>9.597</td>\n      <td>1357.00</td>\n    </tr>\n    <tr>\n      <th>SA</th>\n      <td>South Africa</td>\n      <td>Pretoria</td>\n      <td>1.221</td>\n      <td>52.98</td>\n    </tr>\n  </tbody>\n</table>\n</div>"
          },
          "metadata": {}
        }
      ],
      "execution_count": 3
    },
    {
      "id": "e67b3e75-f109-4544-8c3b-47791edb2c98",
      "cell_type": "markdown",
      "source": "### index and select data\n- square brakets (type--> series) & double squrae brakets (type --> DataFrame)\n- advance methods\n    - loc\n    - iloc",
      "metadata": {}
    },
    {
      "id": "a46b0f10-cbb4-4fad-886c-05db7c7dee2e",
      "cell_type": "code",
      "source": "#Slicing Method 1\nbricks_csv.country ",
      "metadata": {
        "trusted": true
      },
      "outputs": [
        {
          "execution_count": 4,
          "output_type": "execute_result",
          "data": {
            "text/plain": "BR          Brazil\nRU          Russia\nIN           India\nCH           China\nSA    South Africa\nName: country, dtype: object"
          },
          "metadata": {}
        }
      ],
      "execution_count": 4
    },
    {
      "id": "c148c59b-53ee-4b79-93e5-61ddbea7234c",
      "cell_type": "code",
      "source": "#Slicing Method 2\nbricks_csv['capital'] #If we have space between the value so we use this method to slice the value",
      "metadata": {
        "trusted": true
      },
      "outputs": [
        {
          "execution_count": 5,
          "output_type": "execute_result",
          "data": {
            "text/plain": "BR     Brasilia\nRU       Moscow\nIN    New Delhi\nCH      Beijing\nSA     Pretoria\nName: capital, dtype: object"
          },
          "metadata": {}
        }
      ],
      "execution_count": 5
    },
    {
      "id": "dc6c7505-cde9-41ec-9161-bdef87753e4f",
      "cell_type": "code",
      "source": "type(bricks_csv['capital'])",
      "metadata": {
        "trusted": true
      },
      "outputs": [
        {
          "execution_count": 6,
          "output_type": "execute_result",
          "data": {
            "text/plain": "pandas.core.series.Series"
          },
          "metadata": {}
        }
      ],
      "execution_count": 6
    },
    {
      "id": "bfb2fa55-5fbb-4390-9816-2a0416a6cb27",
      "cell_type": "markdown",
      "source": "#### Series\nSeries is a 1-dimensional data structure used to represent a single column or row of data within a DataFrame or as a standalone data structure",
      "metadata": {}
    },
    {
      "id": "5e6cf2f7-cc2c-4367-a2a5-b99d6105935f",
      "cell_type": "code",
      "source": "bricks_csv[['country']]",
      "metadata": {
        "trusted": true
      },
      "outputs": [
        {
          "execution_count": 7,
          "output_type": "execute_result",
          "data": {
            "text/plain": "         country\nBR        Brazil\nRU        Russia\nIN         India\nCH         China\nSA  South Africa",
            "text/html": "<div>\n<style scoped>\n    .dataframe tbody tr th:only-of-type {\n        vertical-align: middle;\n    }\n\n    .dataframe tbody tr th {\n        vertical-align: top;\n    }\n\n    .dataframe thead th {\n        text-align: right;\n    }\n</style>\n<table border=\"1\" class=\"dataframe\">\n  <thead>\n    <tr style=\"text-align: right;\">\n      <th></th>\n      <th>country</th>\n    </tr>\n  </thead>\n  <tbody>\n    <tr>\n      <th>BR</th>\n      <td>Brazil</td>\n    </tr>\n    <tr>\n      <th>RU</th>\n      <td>Russia</td>\n    </tr>\n    <tr>\n      <th>IN</th>\n      <td>India</td>\n    </tr>\n    <tr>\n      <th>CH</th>\n      <td>China</td>\n    </tr>\n    <tr>\n      <th>SA</th>\n      <td>South Africa</td>\n    </tr>\n  </tbody>\n</table>\n</div>"
          },
          "metadata": {}
        }
      ],
      "execution_count": 7
    },
    {
      "id": "f3d1d2f1-033b-49c0-8235-7b9bc186032b",
      "cell_type": "code",
      "source": "type(bricks_csv[['country']])",
      "metadata": {
        "trusted": true
      },
      "outputs": [
        {
          "execution_count": 8,
          "output_type": "execute_result",
          "data": {
            "text/plain": "pandas.core.frame.DataFrame"
          },
          "metadata": {}
        }
      ],
      "execution_count": 8
    },
    {
      "id": "9c39cd74-5860-42cd-ba2f-d312153da160",
      "cell_type": "code",
      "source": "bricks_csv[['country', 'capital', 'population']] #DataFrame",
      "metadata": {
        "trusted": true
      },
      "outputs": [
        {
          "execution_count": 9,
          "output_type": "execute_result",
          "data": {
            "text/plain": "         country    capital  population\nBR        Brazil   Brasilia      200.40\nRU        Russia     Moscow      143.50\nIN         India  New Delhi     1252.00\nCH         China    Beijing     1357.00\nSA  South Africa   Pretoria       52.98",
            "text/html": "<div>\n<style scoped>\n    .dataframe tbody tr th:only-of-type {\n        vertical-align: middle;\n    }\n\n    .dataframe tbody tr th {\n        vertical-align: top;\n    }\n\n    .dataframe thead th {\n        text-align: right;\n    }\n</style>\n<table border=\"1\" class=\"dataframe\">\n  <thead>\n    <tr style=\"text-align: right;\">\n      <th></th>\n      <th>country</th>\n      <th>capital</th>\n      <th>population</th>\n    </tr>\n  </thead>\n  <tbody>\n    <tr>\n      <th>BR</th>\n      <td>Brazil</td>\n      <td>Brasilia</td>\n      <td>200.40</td>\n    </tr>\n    <tr>\n      <th>RU</th>\n      <td>Russia</td>\n      <td>Moscow</td>\n      <td>143.50</td>\n    </tr>\n    <tr>\n      <th>IN</th>\n      <td>India</td>\n      <td>New Delhi</td>\n      <td>1252.00</td>\n    </tr>\n    <tr>\n      <th>CH</th>\n      <td>China</td>\n      <td>Beijing</td>\n      <td>1357.00</td>\n    </tr>\n    <tr>\n      <th>SA</th>\n      <td>South Africa</td>\n      <td>Pretoria</td>\n      <td>52.98</td>\n    </tr>\n  </tbody>\n</table>\n</div>"
          },
          "metadata": {}
        }
      ],
      "execution_count": 9
    },
    {
      "id": "1baa4ba9-b370-4740-94a9-f5da57595921",
      "cell_type": "markdown",
      "source": "#### DataFram\nDataFrame is a 2-dimensional data structure designed for handling tabular data with multiple columns",
      "metadata": {}
    },
    {
      "id": "4d5ccfef-1387-48f7-9428-3bd02c4630cf",
      "cell_type": "markdown",
      "source": "### Index and Select Data\n- Sqare brakets\n- Advance method\n  - loc\n  - iloc",
      "metadata": {}
    },
    {
      "id": "77d65abb-74b1-49fa-bf2b-05a7973eddee",
      "cell_type": "markdown",
      "source": "### Access values by indexing",
      "metadata": {}
    },
    {
      "id": "6a6e1241-cd22-4977-b5f8-9d9b3988641c",
      "cell_type": "code",
      "source": "bricks_csv[1:3]",
      "metadata": {
        "trusted": true
      },
      "outputs": [
        {
          "execution_count": 10,
          "output_type": "execute_result",
          "data": {
            "text/plain": "   country    capital    area  population\nRU  Russia     Moscow  17.100       143.5\nIN   India  New Delhi   3.286      1252.0",
            "text/html": "<div>\n<style scoped>\n    .dataframe tbody tr th:only-of-type {\n        vertical-align: middle;\n    }\n\n    .dataframe tbody tr th {\n        vertical-align: top;\n    }\n\n    .dataframe thead th {\n        text-align: right;\n    }\n</style>\n<table border=\"1\" class=\"dataframe\">\n  <thead>\n    <tr style=\"text-align: right;\">\n      <th></th>\n      <th>country</th>\n      <th>capital</th>\n      <th>area</th>\n      <th>population</th>\n    </tr>\n  </thead>\n  <tbody>\n    <tr>\n      <th>RU</th>\n      <td>Russia</td>\n      <td>Moscow</td>\n      <td>17.100</td>\n      <td>143.5</td>\n    </tr>\n    <tr>\n      <th>IN</th>\n      <td>India</td>\n      <td>New Delhi</td>\n      <td>3.286</td>\n      <td>1252.0</td>\n    </tr>\n  </tbody>\n</table>\n</div>"
          },
          "metadata": {}
        }
      ],
      "execution_count": 10
    },
    {
      "id": "c5712dfb-0b15-41c7-a3f1-9bfc12d1fffa",
      "cell_type": "code",
      "source": "bricks_csv[:3]",
      "metadata": {
        "trusted": true
      },
      "outputs": [
        {
          "execution_count": 11,
          "output_type": "execute_result",
          "data": {
            "text/plain": "   country    capital    area  population\nBR  Brazil   Brasilia   8.516       200.4\nRU  Russia     Moscow  17.100       143.5\nIN   India  New Delhi   3.286      1252.0",
            "text/html": "<div>\n<style scoped>\n    .dataframe tbody tr th:only-of-type {\n        vertical-align: middle;\n    }\n\n    .dataframe tbody tr th {\n        vertical-align: top;\n    }\n\n    .dataframe thead th {\n        text-align: right;\n    }\n</style>\n<table border=\"1\" class=\"dataframe\">\n  <thead>\n    <tr style=\"text-align: right;\">\n      <th></th>\n      <th>country</th>\n      <th>capital</th>\n      <th>area</th>\n      <th>population</th>\n    </tr>\n  </thead>\n  <tbody>\n    <tr>\n      <th>BR</th>\n      <td>Brazil</td>\n      <td>Brasilia</td>\n      <td>8.516</td>\n      <td>200.4</td>\n    </tr>\n    <tr>\n      <th>RU</th>\n      <td>Russia</td>\n      <td>Moscow</td>\n      <td>17.100</td>\n      <td>143.5</td>\n    </tr>\n    <tr>\n      <th>IN</th>\n      <td>India</td>\n      <td>New Delhi</td>\n      <td>3.286</td>\n      <td>1252.0</td>\n    </tr>\n  </tbody>\n</table>\n</div>"
          },
          "metadata": {}
        }
      ],
      "execution_count": 11
    },
    {
      "id": "a2940bf5-1e49-47b1-8cdd-6c677d63817c",
      "cell_type": "code",
      "source": "bricks_csv[1:]",
      "metadata": {
        "trusted": true
      },
      "outputs": [
        {
          "execution_count": 12,
          "output_type": "execute_result",
          "data": {
            "text/plain": "         country    capital    area  population\nRU        Russia     Moscow  17.100      143.50\nIN         India  New Delhi   3.286     1252.00\nCH         China    Beijing   9.597     1357.00\nSA  South Africa   Pretoria   1.221       52.98",
            "text/html": "<div>\n<style scoped>\n    .dataframe tbody tr th:only-of-type {\n        vertical-align: middle;\n    }\n\n    .dataframe tbody tr th {\n        vertical-align: top;\n    }\n\n    .dataframe thead th {\n        text-align: right;\n    }\n</style>\n<table border=\"1\" class=\"dataframe\">\n  <thead>\n    <tr style=\"text-align: right;\">\n      <th></th>\n      <th>country</th>\n      <th>capital</th>\n      <th>area</th>\n      <th>population</th>\n    </tr>\n  </thead>\n  <tbody>\n    <tr>\n      <th>RU</th>\n      <td>Russia</td>\n      <td>Moscow</td>\n      <td>17.100</td>\n      <td>143.50</td>\n    </tr>\n    <tr>\n      <th>IN</th>\n      <td>India</td>\n      <td>New Delhi</td>\n      <td>3.286</td>\n      <td>1252.00</td>\n    </tr>\n    <tr>\n      <th>CH</th>\n      <td>China</td>\n      <td>Beijing</td>\n      <td>9.597</td>\n      <td>1357.00</td>\n    </tr>\n    <tr>\n      <th>SA</th>\n      <td>South Africa</td>\n      <td>Pretoria</td>\n      <td>1.221</td>\n      <td>52.98</td>\n    </tr>\n  </tbody>\n</table>\n</div>"
          },
          "metadata": {}
        }
      ],
      "execution_count": 12
    },
    {
      "id": "9c7c0422-3724-44a5-babf-8f0bd7092517",
      "cell_type": "code",
      "source": "# square bralets have limited functionality\n# Accessing rows and columns togather\nbricks_csv[1:3, 1:4] #test numpy access method for specific rows and columns",
      "metadata": {
        "trusted": true
      },
      "outputs": [
        {
          "ename": "<class 'pandas.errors.InvalidIndexError'>",
          "evalue": "(slice(1, 3, None), slice(1, 4, None))",
          "traceback": [
            "\u001b[0;31m---------------------------------------------------------------------------\u001b[0m",
            "\u001b[0;31mTypeError\u001b[0m                                 Traceback (most recent call last)",
            "File \u001b[0;32m/lib/python3.11/site-packages/pandas/core/indexes/base.py:3802\u001b[0m, in \u001b[0;36mIndex.get_loc\u001b[0;34m(self, key, method, tolerance)\u001b[0m\n\u001b[1;32m   3801\u001b[0m \u001b[38;5;28;01mtry\u001b[39;00m:\n\u001b[0;32m-> 3802\u001b[0m     \u001b[38;5;28;01mreturn\u001b[39;00m \u001b[38;5;28;43mself\u001b[39;49m\u001b[38;5;241;43m.\u001b[39;49m\u001b[43m_engine\u001b[49m\u001b[38;5;241;43m.\u001b[39;49m\u001b[43mget_loc\u001b[49m\u001b[43m(\u001b[49m\u001b[43mcasted_key\u001b[49m\u001b[43m)\u001b[49m\n\u001b[1;32m   3803\u001b[0m \u001b[38;5;28;01mexcept\u001b[39;00m \u001b[38;5;167;01mKeyError\u001b[39;00m \u001b[38;5;28;01mas\u001b[39;00m err:\n",
            "File \u001b[0;32m/lib/python3.11/site-packages/pandas/_libs/index.pyx:138\u001b[0m, in \u001b[0;36mpandas._libs.index.IndexEngine.get_loc\u001b[0;34m()\u001b[0m\n",
            "File \u001b[0;32m/lib/python3.11/site-packages/pandas/_libs/index.pyx:144\u001b[0m, in \u001b[0;36mpandas._libs.index.IndexEngine.get_loc\u001b[0;34m()\u001b[0m\n",
            "\u001b[0;31mTypeError\u001b[0m: '(slice(1, 3, None), slice(1, 4, None))' is an invalid key",
            "\nDuring handling of the above exception, another exception occurred:\n",
            "\u001b[0;31mInvalidIndexError\u001b[0m                         Traceback (most recent call last)",
            "Cell \u001b[0;32mIn[13], line 3\u001b[0m\n\u001b[1;32m      1\u001b[0m \u001b[38;5;66;03m# square bralets have limited functionality\u001b[39;00m\n\u001b[1;32m      2\u001b[0m \u001b[38;5;66;03m# Accessing rows and columns togather\u001b[39;00m\n\u001b[0;32m----> 3\u001b[0m \u001b[43mbricks_csv\u001b[49m\u001b[43m[\u001b[49m\u001b[38;5;241;43m1\u001b[39;49m\u001b[43m:\u001b[49m\u001b[38;5;241;43m3\u001b[39;49m\u001b[43m,\u001b[49m\u001b[43m \u001b[49m\u001b[38;5;241;43m1\u001b[39;49m\u001b[43m:\u001b[49m\u001b[38;5;241;43m4\u001b[39;49m\u001b[43m]\u001b[49m \u001b[38;5;66;03m#test numpy access method for specific rows and columns\u001b[39;00m\n",
            "File \u001b[0;32m/lib/python3.11/site-packages/pandas/core/frame.py:3807\u001b[0m, in \u001b[0;36mDataFrame.__getitem__\u001b[0;34m(self, key)\u001b[0m\n\u001b[1;32m   3805\u001b[0m \u001b[38;5;28;01mif\u001b[39;00m \u001b[38;5;28mself\u001b[39m\u001b[38;5;241m.\u001b[39mcolumns\u001b[38;5;241m.\u001b[39mnlevels \u001b[38;5;241m>\u001b[39m \u001b[38;5;241m1\u001b[39m:\n\u001b[1;32m   3806\u001b[0m     \u001b[38;5;28;01mreturn\u001b[39;00m \u001b[38;5;28mself\u001b[39m\u001b[38;5;241m.\u001b[39m_getitem_multilevel(key)\n\u001b[0;32m-> 3807\u001b[0m indexer \u001b[38;5;241m=\u001b[39m \u001b[38;5;28;43mself\u001b[39;49m\u001b[38;5;241;43m.\u001b[39;49m\u001b[43mcolumns\u001b[49m\u001b[38;5;241;43m.\u001b[39;49m\u001b[43mget_loc\u001b[49m\u001b[43m(\u001b[49m\u001b[43mkey\u001b[49m\u001b[43m)\u001b[49m\n\u001b[1;32m   3808\u001b[0m \u001b[38;5;28;01mif\u001b[39;00m is_integer(indexer):\n\u001b[1;32m   3809\u001b[0m     indexer \u001b[38;5;241m=\u001b[39m [indexer]\n",
            "File \u001b[0;32m/lib/python3.11/site-packages/pandas/core/indexes/base.py:3809\u001b[0m, in \u001b[0;36mIndex.get_loc\u001b[0;34m(self, key, method, tolerance)\u001b[0m\n\u001b[1;32m   3804\u001b[0m         \u001b[38;5;28;01mraise\u001b[39;00m \u001b[38;5;167;01mKeyError\u001b[39;00m(key) \u001b[38;5;28;01mfrom\u001b[39;00m \u001b[38;5;21;01merr\u001b[39;00m\n\u001b[1;32m   3805\u001b[0m     \u001b[38;5;28;01mexcept\u001b[39;00m \u001b[38;5;167;01mTypeError\u001b[39;00m:\n\u001b[1;32m   3806\u001b[0m         \u001b[38;5;66;03m# If we have a listlike key, _check_indexing_error will raise\u001b[39;00m\n\u001b[1;32m   3807\u001b[0m         \u001b[38;5;66;03m#  InvalidIndexError. Otherwise we fall through and re-raise\u001b[39;00m\n\u001b[1;32m   3808\u001b[0m         \u001b[38;5;66;03m#  the TypeError.\u001b[39;00m\n\u001b[0;32m-> 3809\u001b[0m         \u001b[38;5;28;43mself\u001b[39;49m\u001b[38;5;241;43m.\u001b[39;49m\u001b[43m_check_indexing_error\u001b[49m\u001b[43m(\u001b[49m\u001b[43mkey\u001b[49m\u001b[43m)\u001b[49m\n\u001b[1;32m   3810\u001b[0m         \u001b[38;5;28;01mraise\u001b[39;00m\n\u001b[1;32m   3812\u001b[0m \u001b[38;5;66;03m# GH#42269\u001b[39;00m\n",
            "File \u001b[0;32m/lib/python3.11/site-packages/pandas/core/indexes/base.py:5925\u001b[0m, in \u001b[0;36mIndex._check_indexing_error\u001b[0;34m(self, key)\u001b[0m\n\u001b[1;32m   5921\u001b[0m \u001b[38;5;28;01mdef\u001b[39;00m \u001b[38;5;21m_check_indexing_error\u001b[39m(\u001b[38;5;28mself\u001b[39m, key):\n\u001b[1;32m   5922\u001b[0m     \u001b[38;5;28;01mif\u001b[39;00m \u001b[38;5;129;01mnot\u001b[39;00m is_scalar(key):\n\u001b[1;32m   5923\u001b[0m         \u001b[38;5;66;03m# if key is not a scalar, directly raise an error (the code below\u001b[39;00m\n\u001b[1;32m   5924\u001b[0m         \u001b[38;5;66;03m# would convert to numpy arrays and raise later any way) - GH29926\u001b[39;00m\n\u001b[0;32m-> 5925\u001b[0m         \u001b[38;5;28;01mraise\u001b[39;00m InvalidIndexError(key)\n",
            "\u001b[0;31mInvalidIndexError\u001b[0m: (slice(1, 3, None), slice(1, 4, None))"
          ],
          "output_type": "error"
        }
      ],
      "execution_count": 13
    },
    {
      "id": "1974ac01-57db-4aa3-88bf-21152af912d1",
      "cell_type": "markdown",
      "source": "### Question What if we want specific columns and rows ?\n###### Key points about [ ] square brakets\n\n- square bralets have limited functionality\n- ideally \n    - Remember **2D Numpy array** in numpy\n    - ``my_arr[row, col]``\n- pandas\n    - ``loc``(label based)\n    - ``iloc`` (index based)",
      "metadata": {}
    },
    {
      "id": "5b12ef46-8b56-4734-bd32-8dd4efd5f679",
      "cell_type": "code",
      "source": "bricks_csv",
      "metadata": {
        "trusted": true
      },
      "outputs": [
        {
          "execution_count": 14,
          "output_type": "execute_result",
          "data": {
            "text/plain": "         country    capital    area  population\nBR        Brazil   Brasilia   8.516      200.40\nRU        Russia     Moscow  17.100      143.50\nIN         India  New Delhi   3.286     1252.00\nCH         China    Beijing   9.597     1357.00\nSA  South Africa   Pretoria   1.221       52.98",
            "text/html": "<div>\n<style scoped>\n    .dataframe tbody tr th:only-of-type {\n        vertical-align: middle;\n    }\n\n    .dataframe tbody tr th {\n        vertical-align: top;\n    }\n\n    .dataframe thead th {\n        text-align: right;\n    }\n</style>\n<table border=\"1\" class=\"dataframe\">\n  <thead>\n    <tr style=\"text-align: right;\">\n      <th></th>\n      <th>country</th>\n      <th>capital</th>\n      <th>area</th>\n      <th>population</th>\n    </tr>\n  </thead>\n  <tbody>\n    <tr>\n      <th>BR</th>\n      <td>Brazil</td>\n      <td>Brasilia</td>\n      <td>8.516</td>\n      <td>200.40</td>\n    </tr>\n    <tr>\n      <th>RU</th>\n      <td>Russia</td>\n      <td>Moscow</td>\n      <td>17.100</td>\n      <td>143.50</td>\n    </tr>\n    <tr>\n      <th>IN</th>\n      <td>India</td>\n      <td>New Delhi</td>\n      <td>3.286</td>\n      <td>1252.00</td>\n    </tr>\n    <tr>\n      <th>CH</th>\n      <td>China</td>\n      <td>Beijing</td>\n      <td>9.597</td>\n      <td>1357.00</td>\n    </tr>\n    <tr>\n      <th>SA</th>\n      <td>South Africa</td>\n      <td>Pretoria</td>\n      <td>1.221</td>\n      <td>52.98</td>\n    </tr>\n  </tbody>\n</table>\n</div>"
          },
          "metadata": {}
        }
      ],
      "execution_count": 14
    },
    {
      "id": "e11da4a0-181d-4999-b0a1-3f206e145c27",
      "cell_type": "code",
      "source": "#I cann't access specific rows and columns by sqare brakets but\n# If I want specific rows and columns so I will have to use 'loc' or 'iloc'\nbricks_csv.loc['IN'] #--> rows as pandas series",
      "metadata": {
        "trusted": true
      },
      "outputs": [
        {
          "execution_count": 15,
          "output_type": "execute_result",
          "data": {
            "text/plain": "country           India\ncapital       New Delhi\narea              3.286\npopulation       1252.0\nName: IN, dtype: object"
          },
          "metadata": {}
        }
      ],
      "execution_count": 15
    },
    {
      "id": "5e95859a-95ef-4ab3-8078-8849303eb6ea",
      "cell_type": "code",
      "source": "type(bricks_csv.loc['IN']) #loc also give us series and dataframe with same way",
      "metadata": {
        "trusted": true
      },
      "outputs": [
        {
          "execution_count": 16,
          "output_type": "execute_result",
          "data": {
            "text/plain": "pandas.core.series.Series"
          },
          "metadata": {}
        }
      ],
      "execution_count": 16
    },
    {
      "id": "cd6d4f5c-0eb9-4ea9-baad-259a0102a384",
      "cell_type": "code",
      "source": "bricks_csv.loc[['CH']]",
      "metadata": {
        "trusted": true
      },
      "outputs": [
        {
          "execution_count": 17,
          "output_type": "execute_result",
          "data": {
            "text/plain": "   country  capital   area  population\nCH   China  Beijing  9.597      1357.0",
            "text/html": "<div>\n<style scoped>\n    .dataframe tbody tr th:only-of-type {\n        vertical-align: middle;\n    }\n\n    .dataframe tbody tr th {\n        vertical-align: top;\n    }\n\n    .dataframe thead th {\n        text-align: right;\n    }\n</style>\n<table border=\"1\" class=\"dataframe\">\n  <thead>\n    <tr style=\"text-align: right;\">\n      <th></th>\n      <th>country</th>\n      <th>capital</th>\n      <th>area</th>\n      <th>population</th>\n    </tr>\n  </thead>\n  <tbody>\n    <tr>\n      <th>CH</th>\n      <td>China</td>\n      <td>Beijing</td>\n      <td>9.597</td>\n      <td>1357.0</td>\n    </tr>\n  </tbody>\n</table>\n</div>"
          },
          "metadata": {}
        }
      ],
      "execution_count": 17
    },
    {
      "id": "cfc8bcf1-9ccf-42c4-bcea-14ee8aa76990",
      "cell_type": "code",
      "source": "type(bricks_csv.loc[['CH']]) #loc also give us series and dataframe with same way",
      "metadata": {
        "trusted": true
      },
      "outputs": [
        {
          "execution_count": 18,
          "output_type": "execute_result",
          "data": {
            "text/plain": "pandas.core.frame.DataFrame"
          },
          "metadata": {}
        }
      ],
      "execution_count": 18
    },
    {
      "id": "46a7e006-6d74-4215-b3e2-5b3cac7e1849",
      "cell_type": "code",
      "source": "bricks_csv.loc[['RU', 'SA']] #Specific rows",
      "metadata": {
        "trusted": true
      },
      "outputs": [
        {
          "execution_count": 19,
          "output_type": "execute_result",
          "data": {
            "text/plain": "         country   capital    area  population\nRU        Russia    Moscow  17.100      143.50\nSA  South Africa  Pretoria   1.221       52.98",
            "text/html": "<div>\n<style scoped>\n    .dataframe tbody tr th:only-of-type {\n        vertical-align: middle;\n    }\n\n    .dataframe tbody tr th {\n        vertical-align: top;\n    }\n\n    .dataframe thead th {\n        text-align: right;\n    }\n</style>\n<table border=\"1\" class=\"dataframe\">\n  <thead>\n    <tr style=\"text-align: right;\">\n      <th></th>\n      <th>country</th>\n      <th>capital</th>\n      <th>area</th>\n      <th>population</th>\n    </tr>\n  </thead>\n  <tbody>\n    <tr>\n      <th>RU</th>\n      <td>Russia</td>\n      <td>Moscow</td>\n      <td>17.100</td>\n      <td>143.50</td>\n    </tr>\n    <tr>\n      <th>SA</th>\n      <td>South Africa</td>\n      <td>Pretoria</td>\n      <td>1.221</td>\n      <td>52.98</td>\n    </tr>\n  </tbody>\n</table>\n</div>"
          },
          "metadata": {}
        }
      ],
      "execution_count": 19
    },
    {
      "id": "595ebaa4-2fad-4023-99ea-be3435f73605",
      "cell_type": "code",
      "source": "# Access Specific rows and columns\nbricks_csv.loc[['BR','CH'], ['country', 'area']]\n#We cann't access specific rows & columns by sqare brakets but here we have accessed specific rows & columns by adcance method",
      "metadata": {
        "trusted": true
      },
      "outputs": [
        {
          "execution_count": 20,
          "output_type": "execute_result",
          "data": {
            "text/plain": "   country   area\nBR  Brazil  8.516\nCH   China  9.597",
            "text/html": "<div>\n<style scoped>\n    .dataframe tbody tr th:only-of-type {\n        vertical-align: middle;\n    }\n\n    .dataframe tbody tr th {\n        vertical-align: top;\n    }\n\n    .dataframe thead th {\n        text-align: right;\n    }\n</style>\n<table border=\"1\" class=\"dataframe\">\n  <thead>\n    <tr style=\"text-align: right;\">\n      <th></th>\n      <th>country</th>\n      <th>area</th>\n    </tr>\n  </thead>\n  <tbody>\n    <tr>\n      <th>BR</th>\n      <td>Brazil</td>\n      <td>8.516</td>\n    </tr>\n    <tr>\n      <th>CH</th>\n      <td>China</td>\n      <td>9.597</td>\n    </tr>\n  </tbody>\n</table>\n</div>"
          },
          "metadata": {}
        }
      ],
      "execution_count": 20
    },
    {
      "id": "9d617b29-012b-4ac1-a779-bdfec3dd17c7",
      "cell_type": "code",
      "source": "bricks_csv.loc['BR':'CH', ['country']]",
      "metadata": {
        "trusted": true
      },
      "outputs": [
        {
          "execution_count": 21,
          "output_type": "execute_result",
          "data": {
            "text/plain": "   country\nBR  Brazil\nRU  Russia\nIN   India\nCH   China",
            "text/html": "<div>\n<style scoped>\n    .dataframe tbody tr th:only-of-type {\n        vertical-align: middle;\n    }\n\n    .dataframe tbody tr th {\n        vertical-align: top;\n    }\n\n    .dataframe thead th {\n        text-align: right;\n    }\n</style>\n<table border=\"1\" class=\"dataframe\">\n  <thead>\n    <tr style=\"text-align: right;\">\n      <th></th>\n      <th>country</th>\n    </tr>\n  </thead>\n  <tbody>\n    <tr>\n      <th>BR</th>\n      <td>Brazil</td>\n    </tr>\n    <tr>\n      <th>RU</th>\n      <td>Russia</td>\n    </tr>\n    <tr>\n      <th>IN</th>\n      <td>India</td>\n    </tr>\n    <tr>\n      <th>CH</th>\n      <td>China</td>\n    </tr>\n  </tbody>\n</table>\n</div>"
          },
          "metadata": {}
        }
      ],
      "execution_count": 21
    },
    {
      "id": "29b93f5b-343b-488a-b344-3d3f3ec94336",
      "cell_type": "code",
      "source": "bricks_csv.loc['BR':'IN', 'country':'area']",
      "metadata": {
        "trusted": true
      },
      "outputs": [
        {
          "execution_count": 22,
          "output_type": "execute_result",
          "data": {
            "text/plain": "   country    capital    area\nBR  Brazil   Brasilia   8.516\nRU  Russia     Moscow  17.100\nIN   India  New Delhi   3.286",
            "text/html": "<div>\n<style scoped>\n    .dataframe tbody tr th:only-of-type {\n        vertical-align: middle;\n    }\n\n    .dataframe tbody tr th {\n        vertical-align: top;\n    }\n\n    .dataframe thead th {\n        text-align: right;\n    }\n</style>\n<table border=\"1\" class=\"dataframe\">\n  <thead>\n    <tr style=\"text-align: right;\">\n      <th></th>\n      <th>country</th>\n      <th>capital</th>\n      <th>area</th>\n    </tr>\n  </thead>\n  <tbody>\n    <tr>\n      <th>BR</th>\n      <td>Brazil</td>\n      <td>Brasilia</td>\n      <td>8.516</td>\n    </tr>\n    <tr>\n      <th>RU</th>\n      <td>Russia</td>\n      <td>Moscow</td>\n      <td>17.100</td>\n    </tr>\n    <tr>\n      <th>IN</th>\n      <td>India</td>\n      <td>New Delhi</td>\n      <td>3.286</td>\n    </tr>\n  </tbody>\n</table>\n</div>"
          },
          "metadata": {}
        }
      ],
      "execution_count": 22
    },
    {
      "id": "e7e93c4a-5e16-41a9-bfd1-4bc9ba608e5b",
      "cell_type": "code",
      "source": "bricks_csv.loc[:, ['capital', 'population']] # all rows with specific columns",
      "metadata": {
        "trusted": true
      },
      "outputs": [
        {
          "execution_count": 23,
          "output_type": "execute_result",
          "data": {
            "text/plain": "      capital  population\nBR   Brasilia      200.40\nRU     Moscow      143.50\nIN  New Delhi     1252.00\nCH    Beijing     1357.00\nSA   Pretoria       52.98",
            "text/html": "<div>\n<style scoped>\n    .dataframe tbody tr th:only-of-type {\n        vertical-align: middle;\n    }\n\n    .dataframe tbody tr th {\n        vertical-align: top;\n    }\n\n    .dataframe thead th {\n        text-align: right;\n    }\n</style>\n<table border=\"1\" class=\"dataframe\">\n  <thead>\n    <tr style=\"text-align: right;\">\n      <th></th>\n      <th>capital</th>\n      <th>population</th>\n    </tr>\n  </thead>\n  <tbody>\n    <tr>\n      <th>BR</th>\n      <td>Brasilia</td>\n      <td>200.40</td>\n    </tr>\n    <tr>\n      <th>RU</th>\n      <td>Moscow</td>\n      <td>143.50</td>\n    </tr>\n    <tr>\n      <th>IN</th>\n      <td>New Delhi</td>\n      <td>1252.00</td>\n    </tr>\n    <tr>\n      <th>CH</th>\n      <td>Beijing</td>\n      <td>1357.00</td>\n    </tr>\n    <tr>\n      <th>SA</th>\n      <td>Pretoria</td>\n      <td>52.98</td>\n    </tr>\n  </tbody>\n</table>\n</div>"
          },
          "metadata": {}
        }
      ],
      "execution_count": 23
    },
    {
      "id": "b35e3e26-b2ca-4787-973a-bb418bd14289",
      "cell_type": "markdown",
      "source": "#### Quick Recap\n\n- Square brakets\n\n    - column access --> ``bricks.csv[['country', 'capital']]``\n    - row access (only through slicing) --> ``bricks_csv[1:4]``\n    \n- loc(label-based) remeber ``arr[rows, columns]``\n\n    - row access --> ``bricks_csv.loc[['BR', 'IN']]``\n    - columns access --> ``bricks_csv.loc[:['country', 'capital']]``\n    - both rows and columns --> <br>\n    ``bricks_csv.loc[['BR', 'IN'], ['country', 'capital']]``",
      "metadata": {}
    },
    {
      "id": "2c4c54d1-8532-4451-87b9-28428991ca42",
      "cell_type": "markdown",
      "source": "### Accessing values with iloc[]",
      "metadata": {}
    },
    {
      "id": "31f81381-4664-4bca-b01b-ba0b13219ecb",
      "cell_type": "code",
      "source": "bricks_csv",
      "metadata": {
        "trusted": true
      },
      "outputs": [
        {
          "execution_count": 24,
          "output_type": "execute_result",
          "data": {
            "text/plain": "         country    capital    area  population\nBR        Brazil   Brasilia   8.516      200.40\nRU        Russia     Moscow  17.100      143.50\nIN         India  New Delhi   3.286     1252.00\nCH         China    Beijing   9.597     1357.00\nSA  South Africa   Pretoria   1.221       52.98",
            "text/html": "<div>\n<style scoped>\n    .dataframe tbody tr th:only-of-type {\n        vertical-align: middle;\n    }\n\n    .dataframe tbody tr th {\n        vertical-align: top;\n    }\n\n    .dataframe thead th {\n        text-align: right;\n    }\n</style>\n<table border=\"1\" class=\"dataframe\">\n  <thead>\n    <tr style=\"text-align: right;\">\n      <th></th>\n      <th>country</th>\n      <th>capital</th>\n      <th>area</th>\n      <th>population</th>\n    </tr>\n  </thead>\n  <tbody>\n    <tr>\n      <th>BR</th>\n      <td>Brazil</td>\n      <td>Brasilia</td>\n      <td>8.516</td>\n      <td>200.40</td>\n    </tr>\n    <tr>\n      <th>RU</th>\n      <td>Russia</td>\n      <td>Moscow</td>\n      <td>17.100</td>\n      <td>143.50</td>\n    </tr>\n    <tr>\n      <th>IN</th>\n      <td>India</td>\n      <td>New Delhi</td>\n      <td>3.286</td>\n      <td>1252.00</td>\n    </tr>\n    <tr>\n      <th>CH</th>\n      <td>China</td>\n      <td>Beijing</td>\n      <td>9.597</td>\n      <td>1357.00</td>\n    </tr>\n    <tr>\n      <th>SA</th>\n      <td>South Africa</td>\n      <td>Pretoria</td>\n      <td>1.221</td>\n      <td>52.98</td>\n    </tr>\n  </tbody>\n</table>\n</div>"
          },
          "metadata": {}
        }
      ],
      "execution_count": 24
    },
    {
      "id": "2a7beb8b-fdbc-420c-8d62-52aea03d72e8",
      "cell_type": "code",
      "source": "bricks_csv.iloc[1] #specific row",
      "metadata": {
        "trusted": true
      },
      "outputs": [
        {
          "execution_count": 25,
          "output_type": "execute_result",
          "data": {
            "text/plain": "country       Russia\ncapital       Moscow\narea            17.1\npopulation     143.5\nName: RU, dtype: object"
          },
          "metadata": {}
        }
      ],
      "execution_count": 25
    },
    {
      "id": "5e8b89a7-d92f-4594-a22e-5a03c97922b5",
      "cell_type": "code",
      "source": "bricks_csv.iloc[2,3] #specific row with column",
      "metadata": {
        "trusted": true
      },
      "outputs": [
        {
          "execution_count": 26,
          "output_type": "execute_result",
          "data": {
            "text/plain": "1252.0"
          },
          "metadata": {}
        }
      ],
      "execution_count": 26
    },
    {
      "id": "51cffa5b-5b87-49e8-be04-0398c9585479",
      "cell_type": "code",
      "source": "type(bricks_csv.iloc[1])",
      "metadata": {
        "trusted": true
      },
      "outputs": [
        {
          "execution_count": 27,
          "output_type": "execute_result",
          "data": {
            "text/plain": "pandas.core.series.Series"
          },
          "metadata": {}
        }
      ],
      "execution_count": 27
    },
    {
      "id": "6ca1e336-0b56-43d0-a135-a8a61bcee166",
      "cell_type": "code",
      "source": "bricks_csv.iloc[[2]] #specific row",
      "metadata": {
        "trusted": true
      },
      "outputs": [
        {
          "execution_count": 28,
          "output_type": "execute_result",
          "data": {
            "text/plain": "   country    capital   area  population\nIN   India  New Delhi  3.286      1252.0",
            "text/html": "<div>\n<style scoped>\n    .dataframe tbody tr th:only-of-type {\n        vertical-align: middle;\n    }\n\n    .dataframe tbody tr th {\n        vertical-align: top;\n    }\n\n    .dataframe thead th {\n        text-align: right;\n    }\n</style>\n<table border=\"1\" class=\"dataframe\">\n  <thead>\n    <tr style=\"text-align: right;\">\n      <th></th>\n      <th>country</th>\n      <th>capital</th>\n      <th>area</th>\n      <th>population</th>\n    </tr>\n  </thead>\n  <tbody>\n    <tr>\n      <th>IN</th>\n      <td>India</td>\n      <td>New Delhi</td>\n      <td>3.286</td>\n      <td>1252.0</td>\n    </tr>\n  </tbody>\n</table>\n</div>"
          },
          "metadata": {}
        }
      ],
      "execution_count": 28
    },
    {
      "id": "9357d698-5bfc-42f5-9fd7-c2aceb30be53",
      "cell_type": "code",
      "source": "type(bricks_csv.iloc[[2]])",
      "metadata": {
        "trusted": true
      },
      "outputs": [
        {
          "execution_count": 29,
          "output_type": "execute_result",
          "data": {
            "text/plain": "pandas.core.frame.DataFrame"
          },
          "metadata": {}
        }
      ],
      "execution_count": 29
    },
    {
      "id": "19afd098-04d1-4688-b759-8737afe40023",
      "cell_type": "code",
      "source": "bricks_csv.iloc[[2, 4]] #specific rows",
      "metadata": {
        "trusted": true
      },
      "outputs": [
        {
          "execution_count": 30,
          "output_type": "execute_result",
          "data": {
            "text/plain": "         country    capital   area  population\nIN         India  New Delhi  3.286     1252.00\nSA  South Africa   Pretoria  1.221       52.98",
            "text/html": "<div>\n<style scoped>\n    .dataframe tbody tr th:only-of-type {\n        vertical-align: middle;\n    }\n\n    .dataframe tbody tr th {\n        vertical-align: top;\n    }\n\n    .dataframe thead th {\n        text-align: right;\n    }\n</style>\n<table border=\"1\" class=\"dataframe\">\n  <thead>\n    <tr style=\"text-align: right;\">\n      <th></th>\n      <th>country</th>\n      <th>capital</th>\n      <th>area</th>\n      <th>population</th>\n    </tr>\n  </thead>\n  <tbody>\n    <tr>\n      <th>IN</th>\n      <td>India</td>\n      <td>New Delhi</td>\n      <td>3.286</td>\n      <td>1252.00</td>\n    </tr>\n    <tr>\n      <th>SA</th>\n      <td>South Africa</td>\n      <td>Pretoria</td>\n      <td>1.221</td>\n      <td>52.98</td>\n    </tr>\n  </tbody>\n</table>\n</div>"
          },
          "metadata": {}
        }
      ],
      "execution_count": 30
    },
    {
      "id": "e5f5654d-cbcb-4c9c-9674-339c1b9284ad",
      "cell_type": "code",
      "source": "bricks_csv.iloc[[2, 4], [1, 3]] #specific rows and columns",
      "metadata": {
        "trusted": true
      },
      "outputs": [
        {
          "execution_count": 31,
          "output_type": "execute_result",
          "data": {
            "text/plain": "      capital  population\nIN  New Delhi     1252.00\nSA   Pretoria       52.98",
            "text/html": "<div>\n<style scoped>\n    .dataframe tbody tr th:only-of-type {\n        vertical-align: middle;\n    }\n\n    .dataframe tbody tr th {\n        vertical-align: top;\n    }\n\n    .dataframe thead th {\n        text-align: right;\n    }\n</style>\n<table border=\"1\" class=\"dataframe\">\n  <thead>\n    <tr style=\"text-align: right;\">\n      <th></th>\n      <th>capital</th>\n      <th>population</th>\n    </tr>\n  </thead>\n  <tbody>\n    <tr>\n      <th>IN</th>\n      <td>New Delhi</td>\n      <td>1252.00</td>\n    </tr>\n    <tr>\n      <th>SA</th>\n      <td>Pretoria</td>\n      <td>52.98</td>\n    </tr>\n  </tbody>\n</table>\n</div>"
          },
          "metadata": {}
        }
      ],
      "execution_count": 31
    },
    {
      "id": "1a8ab5d7-4454-4c10-8e8a-6e0dfdfdbc6e",
      "cell_type": "code",
      "source": "bricks_csv.iloc[[2, 3, 4], :]",
      "metadata": {
        "trusted": true
      },
      "outputs": [
        {
          "execution_count": 32,
          "output_type": "execute_result",
          "data": {
            "text/plain": "         country    capital   area  population\nIN         India  New Delhi  3.286     1252.00\nCH         China    Beijing  9.597     1357.00\nSA  South Africa   Pretoria  1.221       52.98",
            "text/html": "<div>\n<style scoped>\n    .dataframe tbody tr th:only-of-type {\n        vertical-align: middle;\n    }\n\n    .dataframe tbody tr th {\n        vertical-align: top;\n    }\n\n    .dataframe thead th {\n        text-align: right;\n    }\n</style>\n<table border=\"1\" class=\"dataframe\">\n  <thead>\n    <tr style=\"text-align: right;\">\n      <th></th>\n      <th>country</th>\n      <th>capital</th>\n      <th>area</th>\n      <th>population</th>\n    </tr>\n  </thead>\n  <tbody>\n    <tr>\n      <th>IN</th>\n      <td>India</td>\n      <td>New Delhi</td>\n      <td>3.286</td>\n      <td>1252.00</td>\n    </tr>\n    <tr>\n      <th>CH</th>\n      <td>China</td>\n      <td>Beijing</td>\n      <td>9.597</td>\n      <td>1357.00</td>\n    </tr>\n    <tr>\n      <th>SA</th>\n      <td>South Africa</td>\n      <td>Pretoria</td>\n      <td>1.221</td>\n      <td>52.98</td>\n    </tr>\n  </tbody>\n</table>\n</div>"
          },
          "metadata": {}
        }
      ],
      "execution_count": 32
    }
  ]
}