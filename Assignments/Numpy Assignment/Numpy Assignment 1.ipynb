{
  "metadata": {
    "kernelspec": {
      "name": "python",
      "display_name": "Python (Pyodide)",
      "language": "python"
    },
    "language_info": {
      "codemirror_mode": {
        "name": "python",
        "version": 3
      },
      "file_extension": ".py",
      "mimetype": "text/x-python",
      "name": "python",
      "nbconvert_exporter": "python",
      "pygments_lexer": "ipython3",
      "version": "3.8"
    },
    "colab": {
      "provenance": []
    }
  },
  "nbformat_minor": 4,
  "nbformat": 4,
  "cells": [
    {
      "cell_type": "markdown",
      "source": "\n# **1. Basic Array Manipulation:**\n",
      "metadata": {
        "id": "UZXjlass3ARu"
      }
    },
    {
      "cell_type": "markdown",
      "source": "Create a 1D array with values ranging from 0 to 9.\n",
      "metadata": {
        "id": "tDWPQRm23C7o"
      }
    },
    {
      "cell_type": "code",
      "source": "import numpy as np\n#Create 1D array\nnp_array1d = np.arange(10)\nprint(np_array1d)",
      "metadata": {
        "id": "OvGF66_02Q8H",
        "trusted": true
      },
      "outputs": [
        {
          "name": "stdout",
          "text": "[0 1 2 3 4 5 6 7 8 9]\n",
          "output_type": "stream"
        }
      ],
      "execution_count": 1
    },
    {
      "cell_type": "markdown",
      "source": "Reshape the array into a 3x3 matrix.\n\nExplore Reshape Function",
      "metadata": {
        "id": "UYzIzPyB3Ne3"
      }
    },
    {
      "cell_type": "code",
      "source": "np_array1d = np.arange(9)\n#Reshaping into 3x3 matrix\nreshaped_array = np_array1d.reshape(3, 3)\nprint(reshaped_array)",
      "metadata": {
        "id": "RLlzDCBc2Q_P",
        "trusted": true
      },
      "outputs": [
        {
          "name": "stdout",
          "text": "[[0 1 2]\n [3 4 5]\n [6 7 8]]\n",
          "output_type": "stream"
        }
      ],
      "execution_count": 2
    },
    {
      "cell_type": "markdown",
      "source": "Access the element at the second row, second column.\n",
      "metadata": {
        "id": "KmhRK9Ti3Phn"
      }
    },
    {
      "cell_type": "code",
      "source": "np_array1d = np.arange(9)\n\nreshaped_array = np_array1d.reshape(3, 3)\n#Access the elemnet\nelement = reshaped_array[1, 1]\nprint(element)",
      "metadata": {
        "id": "Dk_a1D3A3ijN",
        "trusted": true
      },
      "outputs": [
        {
          "name": "stdout",
          "text": "4\n",
          "output_type": "stream"
        }
      ],
      "execution_count": 3
    },
    {
      "cell_type": "markdown",
      "source": "Perform element-wise addition, subtraction, multiplication, and division on two arrays [1, 2, 3] and [4, 5, 6].\n",
      "metadata": {
        "id": "NlH7N-fZ36wc"
      }
    },
    {
      "cell_type": "code",
      "source": "array1 = np.array([1, 2, 3])\narray2 = np.array([4, 5, 6])\n\n#Perform element-wise addition\nadd = array1 + array2\nprint(add)\n\n#Perform element-wise subtraction\nsub = array1 - array2\nprint(sub)\n\n#Perform element-wise multiplication\nmul = array1 * array2\nprint(mul)\n\n#Perform element-wise division\ndiv = array1 / array2\nprint(div)",
      "metadata": {
        "id": "PkgNSo1a37kP",
        "trusted": true
      },
      "outputs": [
        {
          "name": "stdout",
          "text": "[5 7 9]\n[-3 -3 -3]\n[ 4 10 18]\n[0.25 0.4  0.5 ]\n",
          "output_type": "stream"
        }
      ],
      "execution_count": 4
    },
    {
      "cell_type": "markdown",
      "source": "Find the sum, mean, and standard deviation of the array [1, 2, 3, 4, 5].\n",
      "metadata": {
        "id": "JVt4zxkk8e0P"
      }
    },
    {
      "cell_type": "code",
      "source": "array = np.array([1, 2, 3, 4, 5])\n\n#find sum\nsum = array.sum()\nprint(sum)\n\n#find mean\nmean = array.mean()\nprint(mean)\n\n#find standard deviation\nstd = np.round(array.std(), 2) #round method\nprint(std)",
      "metadata": {
        "id": "mQZxaZ0c8nhh",
        "trusted": true
      },
      "outputs": [
        {
          "name": "stdout",
          "text": "15\n3.0\n1.41\n",
          "output_type": "stream"
        }
      ],
      "execution_count": 5
    },
    {
      "cell_type": "markdown",
      "source": "Reshape the array [1, 2, 3, 4, 5, 6] into a 2x3 array.\n\nExplore Reshape",
      "metadata": {
        "id": "ji2XvW0Z8nn5"
      }
    },
    {
      "cell_type": "code",
      "source": "row = np.array([1, 2, 3, 4, 5, 6])\n\nreshaped_row = row.reshape(2, 3)\nprint(reshaped_row)",
      "metadata": {
        "id": "FNbYlzyI8rAx",
        "trusted": true
      },
      "outputs": [
        {
          "name": "stdout",
          "text": "[[1 2 3]\n [4 5 6]]\n",
          "output_type": "stream"
        }
      ],
      "execution_count": 6
    },
    {
      "cell_type": "markdown",
      "source": "\n# **2. Indexing and Slicing:**\n",
      "metadata": {
        "id": "OE-5o0th3SU4"
      }
    },
    {
      "cell_type": "markdown",
      "source": "Create a 5x5 array with random integers.\n",
      "metadata": {
        "id": "yqNKWBOl3an3"
      }
    },
    {
      "cell_type": "code",
      "source": "random_array = np.random.randint(0, 200, size=(5,5))\nprint(random_array)",
      "metadata": {
        "id": "G-kX4nme2RBn",
        "trusted": true
      },
      "outputs": [
        {
          "name": "stdout",
          "text": "[[ 34  77 114  22  17]\n [ 45 139 188  30 120]\n [121 119  22 167 107]\n [127 115  41  88 114]\n [ 88  96 151 182  32]]\n",
          "output_type": "stream"
        }
      ],
      "execution_count": 7
    },
    {
      "cell_type": "markdown",
      "source": "Replace all values in the sub-array with a specific value.\n",
      "metadata": {
        "id": "LlilKAMF3bMX"
      }
    },
    {
      "cell_type": "code",
      "source": "random_array[1:4, 1:4] = 101\nprint(random_array)",
      "metadata": {
        "id": "gShfqRGm2REI",
        "trusted": true
      },
      "outputs": [
        {
          "name": "stdout",
          "text": "[[ 34  77 114  22  17]\n [ 45 101 101 101 120]\n [121 101 101 101 107]\n [127 101 101 101 114]\n [ 88  96 151 182  32]]\n",
          "output_type": "stream"
        }
      ],
      "execution_count": 8
    },
    {
      "cell_type": "markdown",
      "source": "Extract the subarray [[3, 4], [7, 8]] from the array [[1, 2], [3, 4], [5, 6], [7, 8]].\n",
      "metadata": {
        "id": "1kUY7u023gfF"
      }
    },
    {
      "cell_type": "code",
      "source": "array_2d = np.array([[1, 2],\n                     [3, 4],\n                     [5, 6],\n                     [7, 8]])\n\nsub_array = array_2d[[1, 3], :]\nprint(sub_array)",
      "metadata": {
        "id": "UmgqjBwC3_4V",
        "trusted": true
      },
      "outputs": [
        {
          "name": "stdout",
          "text": "[[3 4]\n [7 8]]\n",
          "output_type": "stream"
        }
      ],
      "execution_count": 9
    },
    {
      "cell_type": "markdown",
      "source": "\n# **3. Broadcasting:**",
      "metadata": {
        "id": "vPrCHS_O3jK9"
      }
    },
    {
      "cell_type": "markdown",
      "source": "Create a 2D array of shape (3, 3) with values from 0 to 2.\n",
      "metadata": {
        "id": "W3WUM5Cc3phc"
      }
    },
    {
      "cell_type": "code",
      "source": "values = np.array([0, 1, 2])\n\narr_2d = np.tile(values, (3, 1))\nprint(arr_2d)",
      "metadata": {
        "id": "PxJrAlFW2RGw",
        "trusted": true
      },
      "outputs": [
        {
          "name": "stdout",
          "text": "[[0 1 2]\n [0 1 2]\n [0 1 2]]\n",
          "output_type": "stream"
        }
      ],
      "execution_count": 10
    },
    {
      "cell_type": "markdown",
      "source": "Add a 1D array of shape (3,) to each row of the 2D array using broadcasting.\n",
      "metadata": {
        "id": "J5XPwN3A3rXG"
      }
    },
    {
      "cell_type": "code",
      "source": "arr_1d = np.array([1, 2, 3])\n\narr_2d + arr_1d",
      "metadata": {
        "id": "k4FM2g_c2RJv",
        "trusted": true
      },
      "outputs": [
        {
          "execution_count": 11,
          "output_type": "execute_result",
          "data": {
            "text/plain": "array([[1, 3, 5],\n       [1, 3, 5],\n       [1, 3, 5]])"
          },
          "metadata": {}
        }
      ],
      "execution_count": 11
    },
    {
      "cell_type": "markdown",
      "source": "# **4. Concatenation and Splitting**",
      "metadata": {
        "id": "9CbtQS3w4PA3"
      }
    },
    {
      "cell_type": "markdown",
      "source": "\n1.   Create two 2D arrays of shape (3, 3) with random integers.\n2.   Concatenate them horizontally and vertically.\n3.   Split the concatenated arrays back into the original arrays.\n",
      "metadata": {
        "id": "yMg_umVy4ILG"
      }
    },
    {
      "cell_type": "code",
      "source": "arr1_2d = np.random.randint(0, 50, size=(3, 3))\narr2_2d = np.random.randint(0, 50, size=(3, 3))\nprint('Original array 1')\nprint(arr1_2d)\nprint('Original array 2')\nprint(arr2_2d)\n\nprint('Horizontal Concatenated Array')\nhorizontal_concat_array = np.hstack((arr1_2d, arr2_2d))\nprint(horizontal_concat_array)\n\nprint('Vertical Concatenated Array')\nvertical_concat_array = np.vstack((arr1_2d, arr2_2d))\nprint(vertical_concat_array)\n\nprint('Split Horizontal Array')\noriginal_arr1_h, original_arr2_h = np.hsplit(horizontal_concat_array, 2)\nprint(original_arr1_h)\nprint(original_arr2_h)\n\nprint('Split Vertical Array')\noriginal_arr1_v, original_arr2_v = np.vsplit(vertical_concat_array, 2)\nprint(original_arr1_v)\nprint(original_arr2_v)",
      "metadata": {
        "id": "wXiCa2Sn8XHP",
        "trusted": true
      },
      "outputs": [
        {
          "name": "stdout",
          "text": "Original array 1\n[[42  2 12]\n [21 19  8]\n [17 22 43]]\nOriginal array 2\n[[ 2 19 41]\n [46 12 32]\n [37 23  6]]\nHorizontal Concatenated Array\n[[42  2 12  2 19 41]\n [21 19  8 46 12 32]\n [17 22 43 37 23  6]]\nVertical Concatenated Array\n[[42  2 12]\n [21 19  8]\n [17 22 43]\n [ 2 19 41]\n [46 12 32]\n [37 23  6]]\nSplit Horizontal Array\n[[42  2 12]\n [21 19  8]\n [17 22 43]]\n[[ 2 19 41]\n [46 12 32]\n [37 23  6]]\nSplit Vertical Array\n[[42  2 12]\n [21 19  8]\n [17 22 43]]\n[[ 2 19 41]\n [46 12 32]\n [37 23  6]]\n",
          "output_type": "stream"
        }
      ],
      "execution_count": 22
    },
    {
      "cell_type": "markdown",
      "source": "# **Bonus Question**\n\nFind mode of this array  = [1,2,1,2,3,4,5,6,8,9,1,2,2,22,21,1,1,1,1,2,5]\n\nHint: Use count and also loop",
      "metadata": {
        "id": "2CliNLH8YG3j"
      }
    },
    {
      "cell_type": "code",
      "source": "rand_array = [1,2,1,2,3,4,5,6,8,9,1,2,2,22,21,1,1,1,1,2,5]\n\n#occurrences of each element\ncount = {}\nfor value in rand_array:\n    if value in count:\n        count[value] += 1\n    else:\n        count[value] = 1\n\n#Mode of the given array\nmax_count = 0\nmode = None\n\nfor key,value in count.items():\n    if value > max_count:\n        max_count = value\n        mode = key\n\nprint(f'The Mode of Given array is {mode}')",
      "metadata": {
        "id": "JGe2Qe3SYaHq",
        "trusted": true
      },
      "outputs": [
        {
          "name": "stdout",
          "text": "The Mode of Given array is 1\n",
          "output_type": "stream"
        }
      ],
      "execution_count": 25
    },
    {
      "cell_type": "markdown",
      "source": "# **Notes**\n\n\n1.   All the Questions carry Equal Points (2 points)\n\n2.   Bonus Question carry 5 points\n\n3.   Review lecture for any query\n\nGood Luck!\n\n",
      "metadata": {
        "id": "1t9n5GQdYbHN"
      }
    }
  ]
}